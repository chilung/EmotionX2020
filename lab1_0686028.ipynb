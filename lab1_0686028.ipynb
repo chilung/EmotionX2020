{
  "nbformat": 4,
  "nbformat_minor": 0,
  "metadata": {
    "colab": {
      "name": "lab1-0686028.ipynb",
      "provenance": [],
      "collapsed_sections": [],
      "toc_visible": true,
      "include_colab_link": true
    },
    "kernelspec": {
      "display_name": "Python 3",
      "language": "python",
      "name": "python3"
    },
    "language_info": {
      "codemirror_mode": {
        "name": "ipython",
        "version": 3
      },
      "file_extension": ".py",
      "mimetype": "text/x-python",
      "name": "python",
      "nbconvert_exporter": "python",
      "pygments_lexer": "ipython3",
      "version": "3.7.6"
    }
  },
  "cells": [
    {
      "cell_type": "markdown",
      "metadata": {
        "id": "view-in-github",
        "colab_type": "text"
      },
      "source": [
        "<a href=\"https://colab.research.google.com/github/chilung/EmotionX2020/blob/master/lab1_0686028.ipynb\" target=\"_parent\"><img src=\"https://colab.research.google.com/assets/colab-badge.svg\" alt=\"Open In Colab\"/></a>"
      ]
    },
    {
      "cell_type": "markdown",
      "metadata": {
        "colab_type": "text",
        "id": "HsQ_pHO3cG1m"
      },
      "source": [
        "#Recommend Similar News Articles\n",
        "This notebook demonstrates how to use bag-of-word vectors and cosine similarity for news article recommendation."
      ]
    },
    {
      "cell_type": "code",
      "metadata": {
        "id": "KAwgK3j4EDtE",
        "colab_type": "code",
        "outputId": "c9cacacc-7455-4ff5-8db1-284016a5cde0",
        "colab": {
          "base_uri": "https://localhost:8080/",
          "height": 102
        }
      },
      "source": [
        "import logging\n",
        "\n",
        "logging.basicConfig(level=logging.DEBUG, format='%(message)s')\n",
        "\n",
        "logging.debug('Hello Debug')\n",
        "logging.info('Hello Info')\n",
        "logging.warning('Hello Warning')\n",
        "logging.error('Hello Error')\n",
        "logging.critical('Hello Critical')"
      ],
      "execution_count": 65,
      "outputs": [
        {
          "output_type": "stream",
          "text": [
            "Hello Debug\n",
            "Hello Info\n",
            "Hello Warning\n",
            "Hello Error\n",
            "Hello Critical\n"
          ],
          "name": "stderr"
        }
      ]
    },
    {
      "cell_type": "code",
      "metadata": {
        "colab_type": "code",
        "id": "B80ijUN40QPr",
        "colab": {}
      },
      "source": [
        "import re\n",
        "import pandas as pd\n",
        "from io import open\n",
        "import glob\n",
        "import os\n",
        "import numpy as np\n",
        "import math\n",
        "from collections import OrderedDict\n",
        "from collections import Counter\n",
        "import torch\n",
        "import torchvision\n",
        "import heapq\n",
        "import unicodedata\n",
        "import string"
      ],
      "execution_count": 0,
      "outputs": []
    },
    {
      "cell_type": "markdown",
      "metadata": {
        "colab_type": "text",
        "id": "tJH61jnWXdsh"
      },
      "source": [
        "#Fetching the Corpus\n",
        "`get_corpus()` reads the CSV file, and then return a list of the news headlines"
      ]
    },
    {
      "cell_type": "code",
      "metadata": {
        "colab_type": "code",
        "id": "TwPf9e26O9sn",
        "outputId": "2245a765-e772-4ab3-f09a-10b24c06ca7a",
        "colab": {
          "base_uri": "https://localhost:8080/",
          "height": 408
        }
      },
      "source": [
        "num_of_documents = 20\n",
        "\n",
        "def get_corpus():\n",
        "  df = pd.read_csv('https://raw.githubusercontent.com/bshmueli/108-nlp/master/reuters.csv') # https://bit.ly/nlp-reuters\n",
        "  logging.debug(\"Dataset columns: {}\".format(df.columns))\n",
        "  logging.debug(\"Dataset size: {}\".format(len(df)))\n",
        "  corpus = df.title.to_list()[0:num_of_documents]\n",
        "  return corpus\n",
        "\n",
        "if __debug__:\n",
        "  test_corpus = get_corpus()\n",
        "  for i, c in enumerate(test_corpus):\n",
        "    logging.debug(\"document {}: {}\".format(i+1, c))\n",
        "  logging.debug(\"len of corpus: {}\".format(len(test_corpus)))"
      ],
      "execution_count": 67,
      "outputs": [
        {
          "output_type": "stream",
          "text": [
            "Dataset columns: Index(['title', 'content'], dtype='object')\n",
            "Dataset size: 5354\n",
            "document 1: Exclusive: Apple makes iPhone screen fixes easier as states mull repair laws\n",
            "document 2: Oil ends lower on OPEC output hike; U.S. stockpile rise seen\n",
            "document 3: Patience an asset for U.S. businesses seeking opportunities in Cuba\n",
            "document 4: Modi’s BJP vows to strip Muslim immigrants of vote in Assam\n",
            "document 5: Oprah effect fails to lift Weight Watchers sales; shares plunge\n",
            "document 6: New York, New Jersey 10-year transport plan could include rail tunnel\n",
            "document 7: Israel calls on powers to punish Iran for its missile tests\n",
            "document 8: Former U.S. national security adviser Brzezinski dies at 89\n",
            "document 9: G7 ministers look to persuade Russia to abandon Syria’s Assad\n",
            "document 10: Mosul train tunnel reveals assault course for elite Islamic State fighters\n",
            "document 11: Trump says rival Cruz’s Canadian birthplace could be ’big problem’: Washington Post\n",
            "document 12: Silicon Valley fights for its life on immigration\n",
            "document 13: Oracle lawyer says Google’s Android generated $31 billion revenue\n",
            "document 14: Rubio falters in presidential debate, offering hope to rivals\n",
            "document 15: Johnson & Johnson approaches Actelion about takeover deal\n",
            "document 16: Global stocks hit record highs, dollar rises on rate-hike view\n",
            "document 17: Iran, France concerned at Syria violence with talks set to resume\n",
            "document 18: Facebook CEO, facing wave of criticism, stops attempt to force Hawaii land sale\n",
            "document 19: HERE, automakers team up to share data on traffic conditions\n",
            "document 20: Lululemon quarterly sales top expectations, shares jump\n",
            "len of corpus: 20\n"
          ],
          "name": "stderr"
        }
      ]
    },
    {
      "cell_type": "code",
      "metadata": {
        "id": "SPd927zkgaT0",
        "colab_type": "code",
        "colab": {}
      },
      "source": [
        "def lowerCase(inputStr):\n",
        "    return inputStr.lower()"
      ],
      "execution_count": 0,
      "outputs": []
    },
    {
      "cell_type": "code",
      "metadata": {
        "id": "5p7Rk42ePX8W",
        "colab_type": "code",
        "outputId": "f6fc475b-daa8-4bec-eddd-bad50894ddc4",
        "colab": {
          "base_uri": "https://localhost:8080/",
          "height": 54
        }
      },
      "source": [
        "import urllib.request as urllib\n",
        "\n",
        "def get_stop_words(stop_words_source):\n",
        "  stop_words_byte = urllib.urlopen(stopwords_url)\n",
        "\n",
        "  stop_words = []\n",
        "  for line in stop_words_byte:\n",
        "    stop_words = stop_words + [w for w in line.decode(\"utf-8\").split('\\n') if w != '']\n",
        "  stop_words = [''] + stop_words\n",
        "  return(stop_words)\n",
        "\n",
        "stopwords_url = \"https://bit.ly/nlp-stopwords\"\n",
        "stop_words = get_stop_words(stopwords_url)\n",
        "if __debug__:\n",
        "  logging.debug(stop_words)"
      ],
      "execution_count": 69,
      "outputs": [
        {
          "output_type": "stream",
          "text": [
            "['', 'i', 'me', 'my', 'myself', 'we', 'our', 'ours', 'ourselves', 'you', \"you're\", \"you've\", \"you'll\", \"you'd\", 'your', 'yours', 'yourself', 'yourselves', 'he', 'him', 'his', 'himself', 'she', \"she's\", 'her', 'hers', 'herself', 'it', \"it's\", 'its', 'itself', 'they', 'them', 'their', 'theirs', 'themselves', 'what', 'which', 'who', 'whom', 'this', 'that', \"that'll\", 'these', 'those', 'am', 'is', 'are', 'was', 'were', 'be', 'been', 'being', 'have', 'has', 'had', 'having', 'do', 'does', 'did', 'doing', 'a', 'an', 'the', 'and', 'but', 'if', 'or', 'because', 'as', 'until', 'while', 'of', 'at', 'by', 'for', 'with', 'about', 'against', 'between', 'into', 'through', 'during', 'before', 'after', 'above', 'below', 'to', 'from', 'up', 'down', 'in', 'out', 'on', 'off', 'over', 'under', 'again', 'further', 'then', 'once', 'here', 'there', 'when', 'where', 'why', 'how', 'all', 'any', 'both', 'each', 'few', 'more', 'most', 'other', 'some', 'such', 'no', 'nor', 'not', 'only', 'own', 'same', 'so', 'than', 'too', 'very', 's', 't', 'can', 'will', 'just', 'don', \"don't\", 'should', \"should've\", 'now', 'd', 'll', 'm', 'o', 're', 've', 'y', 'ain', 'aren', \"aren't\", 'couldn', \"couldn't\", 'didn', \"didn't\", 'doesn', \"doesn't\", 'hadn', \"hadn't\", 'hasn', \"hasn't\", 'haven', \"haven't\", 'isn', \"isn't\", 'ma', 'mightn', \"mightn't\", 'mustn', \"mustn't\", 'needn', \"needn't\", 'shan', \"shan't\", 'shouldn', \"shouldn't\", 'wasn', \"wasn't\", 'weren', \"weren't\", 'won', \"won't\", 'wouldn', \"wouldn't\"]\n"
          ],
          "name": "stderr"
        }
      ]
    },
    {
      "cell_type": "code",
      "metadata": {
        "id": "_QPWShPMeJTK",
        "colab_type": "code",
        "colab": {}
      },
      "source": [
        "def split_on_space(document):\n",
        "  return re.split(r' ', document)"
      ],
      "execution_count": 0,
      "outputs": []
    },
    {
      "cell_type": "code",
      "metadata": {
        "id": "mgxac4MpeJgh",
        "colab_type": "code",
        "colab": {}
      },
      "source": [
        "def remove_stop_words(words):\n",
        "  return [w for w in words if w not in stop_words]"
      ],
      "execution_count": 0,
      "outputs": []
    },
    {
      "cell_type": "code",
      "metadata": {
        "id": "rF0VvZNVeJmV",
        "colab_type": "code",
        "colab": {}
      },
      "source": [
        "def split_on_punctation(words):\n",
        "  return [re.split(r'\\W+', w)[0] for w in words]"
      ],
      "execution_count": 0,
      "outputs": []
    },
    {
      "cell_type": "code",
      "metadata": {
        "colab_type": "code",
        "id": "arntcI3OTHTx",
        "outputId": "9818e3f4-4662-426b-cbba-4c07ea589099",
        "colab": {
          "base_uri": "https://localhost:8080/",
          "height": 51
        }
      },
      "source": [
        "def tokenize(document):\n",
        "  logging_level = logging.getLogger().getEffectiveLevel()\n",
        "  logging.getLogger().setLevel(logging.INFO)\n",
        "  \n",
        "  words = split_on_space(document) # remain the words like you're unchanged so that we can remove them out in the following process\n",
        "  logging.debug(\"Step 1 split on space: {}\".format(words))\n",
        "\n",
        "  words = [lowerCase(w) for w in words]\n",
        "  logging.debug(\"Step 2 lower case: {}\".format(words))\n",
        "\n",
        "  words = remove_stop_words(words) # the first process of removing stop word such as you're in \n",
        "  logging.debug(\"Step 3 1st remove stop words: {}\".format(words))\n",
        "  \n",
        "  words = split_on_punctation(words) # remove punctation words\n",
        "  logging.debug(\"Step 4 split on punctation: {}\".format(words))\n",
        " \n",
        "  words = remove_stop_words(words) # the first process of removing stop word such as you're in \n",
        "  logging.debug(\"Step 5 2nd remove stop words: {}\".format(words))\n",
        "  \n",
        "  logging.getLogger().setLevel(logging_level)\n",
        "  return words\n",
        "\n",
        "if __debug__:\n",
        "  test_str = \"you'll you'd me my myself I am here. But ,[]\\& is strange to me??!! How do you think\"\n",
        "  logging.debug(test_str)\n",
        "  logging.debug(tokenize(test_str))"
      ],
      "execution_count": 73,
      "outputs": [
        {
          "output_type": "stream",
          "text": [
            "you'll you'd me my myself I am here. But ,[]\\& is strange to me??!! How do you think\n",
            "['strange', 'think']\n"
          ],
          "name": "stderr"
        }
      ]
    },
    {
      "cell_type": "markdown",
      "metadata": {
        "colab_type": "text",
        "id": "m4lh_w1HXU14"
      },
      "source": [
        "#Computing word frequencies\n",
        "`get_vocab(corpus)` computes the word frequencies in a given corpus. It also collect word frequencies of individual document in the given corpus. It returns two items. The first item is a list of 2-tuples, `vocab`: each tuple contains the token and its frequency. The second item is two dimension list, `doc_vocab`: a list of individual document's list of 2-tuples, each tuple contains the token and its frequency."
      ]
    },
    {
      "cell_type": "code",
      "metadata": {
        "colab_type": "code",
        "id": "QJvtr3VZLkAE",
        "outputId": "3ba6f853-d475-4954-9463-4fe7e78dba8f",
        "colab": {
          "base_uri": "https://localhost:8080/",
          "height": 105
        }
      },
      "source": [
        "def get_vocab(corpus):\n",
        "  vocabulary = Counter()\n",
        "  doc_vocab = {}\n",
        "  for document in corpus:\n",
        "    logging_level = logging.getLogger().getEffectiveLevel()\n",
        "    logging.getLogger().setLevel(logging.INFO)\n",
        "\n",
        "    logging.debug(\"origin document: {}\".format(document))\n",
        "    tokens = tokenize(document)\n",
        "    logging.debug(\"token: {}\".format(tokens))\n",
        "    doc_vocab_collection = Counter()\n",
        "    doc_vocab_collection.update(tokens)\n",
        "    doc_vocab_collection['LENGTH'] = len(tokens)\n",
        "    \n",
        "    doc_vocab[document] = doc_vocab_collection\n",
        "    vocabulary.update(tokens)\n",
        "  \n",
        "  logging.getLogger().setLevel(logging.DEBUG)\n",
        "  return vocabulary, doc_vocab\n",
        "\n",
        "if __debug__:\n",
        "  # logging.getLogger().setLevel(logging.INFO)\n",
        "  test_corpus = get_corpus()\n",
        "  test_vocab, test_doc_vocab = get_vocab(test_corpus)\n",
        "  logging.debug(\"vocab: {}\".format(test_vocab))\n",
        "  logging.debug(\"doc_vocab: {}\".format(test_doc_vocab))"
      ],
      "execution_count": 74,
      "outputs": [
        {
          "output_type": "stream",
          "text": [
            "Dataset columns: Index(['title', 'content'], dtype='object')\n",
            "Dataset size: 5354\n",
            "vocab: Counter({'u': 3, 'sales': 2, 'shares': 2, 'new': 2, 'could': 2, 'tunnel': 2, 'iran': 2, 'syria': 2, 'says': 2, 'johnson': 2, 'exclusive': 1, 'apple': 1, 'makes': 1, 'iphone': 1, 'screen': 1, 'fixes': 1, 'easier': 1, 'states': 1, 'mull': 1, 'repair': 1, 'laws': 1, 'oil': 1, 'ends': 1, 'lower': 1, 'opec': 1, 'output': 1, 'hike': 1, 'stockpile': 1, 'rise': 1, 'seen': 1, 'patience': 1, 'asset': 1, 'businesses': 1, 'seeking': 1, 'opportunities': 1, 'cuba': 1, 'modi': 1, 'bjp': 1, 'vows': 1, 'strip': 1, 'muslim': 1, 'immigrants': 1, 'vote': 1, 'assam': 1, 'oprah': 1, 'effect': 1, 'fails': 1, 'lift': 1, 'weight': 1, 'watchers': 1, 'plunge': 1, 'york': 1, 'jersey': 1, '10': 1, 'transport': 1, 'plan': 1, 'include': 1, 'rail': 1, 'israel': 1, 'calls': 1, 'powers': 1, 'punish': 1, 'missile': 1, 'tests': 1, 'former': 1, 'national': 1, 'security': 1, 'adviser': 1, 'brzezinski': 1, 'dies': 1, '89': 1, 'g7': 1, 'ministers': 1, 'look': 1, 'persuade': 1, 'russia': 1, 'abandon': 1, 'assad': 1, 'mosul': 1, 'train': 1, 'reveals': 1, 'assault': 1, 'course': 1, 'elite': 1, 'islamic': 1, 'state': 1, 'fighters': 1, 'trump': 1, 'rival': 1, 'cruz': 1, 'canadian': 1, 'birthplace': 1, 'problem': 1, 'washington': 1, 'post': 1, 'silicon': 1, 'valley': 1, 'fights': 1, 'life': 1, 'immigration': 1, 'oracle': 1, 'lawyer': 1, 'google': 1, 'android': 1, 'generated': 1, 'billion': 1, 'revenue': 1, 'rubio': 1, 'falters': 1, 'presidential': 1, 'debate': 1, 'offering': 1, 'hope': 1, 'rivals': 1, 'approaches': 1, 'actelion': 1, 'takeover': 1, 'deal': 1, 'global': 1, 'stocks': 1, 'hit': 1, 'record': 1, 'highs': 1, 'dollar': 1, 'rises': 1, 'rate': 1, 'view': 1, 'france': 1, 'concerned': 1, 'violence': 1, 'talks': 1, 'set': 1, 'resume': 1, 'facebook': 1, 'ceo': 1, 'facing': 1, 'wave': 1, 'criticism': 1, 'stops': 1, 'attempt': 1, 'force': 1, 'hawaii': 1, 'land': 1, 'sale': 1, 'automakers': 1, 'team': 1, 'share': 1, 'data': 1, 'traffic': 1, 'conditions': 1, 'lululemon': 1, 'quarterly': 1, 'top': 1, 'expectations': 1, 'jump': 1})\n",
            "doc_vocab: {'Exclusive: Apple makes iPhone screen fixes easier as states mull repair laws': Counter({'LENGTH': 11, 'exclusive': 1, 'apple': 1, 'makes': 1, 'iphone': 1, 'screen': 1, 'fixes': 1, 'easier': 1, 'states': 1, 'mull': 1, 'repair': 1, 'laws': 1}), 'Oil ends lower on OPEC output hike; U.S. stockpile rise seen': Counter({'LENGTH': 10, 'oil': 1, 'ends': 1, 'lower': 1, 'opec': 1, 'output': 1, 'hike': 1, 'u': 1, 'stockpile': 1, 'rise': 1, 'seen': 1}), 'Patience an asset for U.S. businesses seeking opportunities in Cuba': Counter({'LENGTH': 7, 'patience': 1, 'asset': 1, 'u': 1, 'businesses': 1, 'seeking': 1, 'opportunities': 1, 'cuba': 1}), 'Modi’s BJP vows to strip Muslim immigrants of vote in Assam': Counter({'LENGTH': 8, 'modi': 1, 'bjp': 1, 'vows': 1, 'strip': 1, 'muslim': 1, 'immigrants': 1, 'vote': 1, 'assam': 1}), 'Oprah effect fails to lift Weight Watchers sales; shares plunge': Counter({'LENGTH': 9, 'oprah': 1, 'effect': 1, 'fails': 1, 'lift': 1, 'weight': 1, 'watchers': 1, 'sales': 1, 'shares': 1, 'plunge': 1}), 'New York, New Jersey 10-year transport plan could include rail tunnel': Counter({'LENGTH': 11, 'new': 2, 'york': 1, 'jersey': 1, '10': 1, 'transport': 1, 'plan': 1, 'could': 1, 'include': 1, 'rail': 1, 'tunnel': 1}), 'Israel calls on powers to punish Iran for its missile tests': Counter({'LENGTH': 7, 'israel': 1, 'calls': 1, 'powers': 1, 'punish': 1, 'iran': 1, 'missile': 1, 'tests': 1}), 'Former U.S. national security adviser Brzezinski dies at 89': Counter({'LENGTH': 8, 'former': 1, 'u': 1, 'national': 1, 'security': 1, 'adviser': 1, 'brzezinski': 1, 'dies': 1, '89': 1}), 'G7 ministers look to persuade Russia to abandon Syria’s Assad': Counter({'LENGTH': 8, 'g7': 1, 'ministers': 1, 'look': 1, 'persuade': 1, 'russia': 1, 'abandon': 1, 'syria': 1, 'assad': 1}), 'Mosul train tunnel reveals assault course for elite Islamic State fighters': Counter({'LENGTH': 10, 'mosul': 1, 'train': 1, 'tunnel': 1, 'reveals': 1, 'assault': 1, 'course': 1, 'elite': 1, 'islamic': 1, 'state': 1, 'fighters': 1}), 'Trump says rival Cruz’s Canadian birthplace could be ’big problem’: Washington Post': Counter({'LENGTH': 10, 'trump': 1, 'says': 1, 'rival': 1, 'cruz': 1, 'canadian': 1, 'birthplace': 1, 'could': 1, 'problem': 1, 'washington': 1, 'post': 1}), 'Silicon Valley fights for its life on immigration': Counter({'LENGTH': 5, 'silicon': 1, 'valley': 1, 'fights': 1, 'life': 1, 'immigration': 1}), 'Oracle lawyer says Google’s Android generated $31 billion revenue': Counter({'LENGTH': 8, 'oracle': 1, 'lawyer': 1, 'says': 1, 'google': 1, 'android': 1, 'generated': 1, 'billion': 1, 'revenue': 1}), 'Rubio falters in presidential debate, offering hope to rivals': Counter({'LENGTH': 7, 'rubio': 1, 'falters': 1, 'presidential': 1, 'debate': 1, 'offering': 1, 'hope': 1, 'rivals': 1}), 'Johnson & Johnson approaches Actelion about takeover deal': Counter({'LENGTH': 6, 'johnson': 2, 'approaches': 1, 'actelion': 1, 'takeover': 1, 'deal': 1}), 'Global stocks hit record highs, dollar rises on rate-hike view': Counter({'LENGTH': 9, 'global': 1, 'stocks': 1, 'hit': 1, 'record': 1, 'highs': 1, 'dollar': 1, 'rises': 1, 'rate': 1, 'view': 1}), 'Iran, France concerned at Syria violence with talks set to resume': Counter({'LENGTH': 8, 'iran': 1, 'france': 1, 'concerned': 1, 'syria': 1, 'violence': 1, 'talks': 1, 'set': 1, 'resume': 1}), 'Facebook CEO, facing wave of criticism, stops attempt to force Hawaii land sale': Counter({'LENGTH': 11, 'facebook': 1, 'ceo': 1, 'facing': 1, 'wave': 1, 'criticism': 1, 'stops': 1, 'attempt': 1, 'force': 1, 'hawaii': 1, 'land': 1, 'sale': 1}), 'HERE, automakers team up to share data on traffic conditions': Counter({'LENGTH': 6, 'automakers': 1, 'team': 1, 'share': 1, 'data': 1, 'traffic': 1, 'conditions': 1}), 'Lululemon quarterly sales top expectations, shares jump': Counter({'LENGTH': 7, 'lululemon': 1, 'quarterly': 1, 'sales': 1, 'top': 1, 'expectations': 1, 'shares': 1, 'jump': 1})}\n"
          ],
          "name": "stderr"
        }
      ]
    },
    {
      "cell_type": "markdown",
      "metadata": {
        "colab_type": "text",
        "id": "Cwy_Cb-9cYwe"
      },
      "source": [
        "#Compute BoW (Bag-of-Words) Vector\n",
        "`doc_to_vec(doc, vocab)` returns a bag-of-words vector for document `doc`, corresponding to the presence of a word in `vocab`"
      ]
    },
    {
      "cell_type": "code",
      "metadata": {
        "colab_type": "code",
        "id": "5FLl103a8OLh",
        "colab": {}
      },
      "source": [
        "def doc2vec(doc):\n",
        "  words = tokenize(doc)\n",
        "  return [1 if token in words else 0 for token, freq in vocab]\n"
      ],
      "execution_count": 0,
      "outputs": []
    },
    {
      "cell_type": "markdown",
      "metadata": {
        "colab_type": "text",
        "id": "l6X2fT2H8PAx"
      },
      "source": [
        "Compute the Bag-of-Words vector for each document"
      ]
    },
    {
      "cell_type": "markdown",
      "metadata": {
        "colab_type": "text",
        "id": "9q3bc4T_kzMy"
      },
      "source": [
        "Cosine similarity between two numerical vectors"
      ]
    },
    {
      "cell_type": "code",
      "metadata": {
        "colab_type": "code",
        "id": "3WuWEBWLQBAM",
        "colab": {}
      },
      "source": [
        "def cosine_similarity(vec_a, vec_b):\n",
        "  assert len(vec_a) == len(vec_b)\n",
        "  if sum(vec_a) == 0 or sum(vec_b) == 0:\n",
        "    return 0 # hack\n",
        "  a_b = sum(i[0] * i[1] for i in zip(vec_a, vec_b))\n",
        "  a_2 = sum([i*i for i in vec_a])\n",
        "  b_2 = sum([i*i for i in vec_b])\n",
        "  return a_b/(math.sqrt(a_2) * math.sqrt(b_2))"
      ],
      "execution_count": 0,
      "outputs": []
    },
    {
      "cell_type": "code",
      "metadata": {
        "colab_type": "code",
        "id": "5FEyKg0mkeLm",
        "colab": {}
      },
      "source": [
        "def doc_similarity(doc_a, doc_b):\n",
        "  return cosine_similarity(doc2vec(doc_a), doc2vec(doc_b))\n"
      ],
      "execution_count": 0,
      "outputs": []
    },
    {
      "cell_type": "markdown",
      "metadata": {
        "colab_type": "text",
        "id": "ddRwu-O1f13Q"
      },
      "source": [
        "# Find Similar Documents\n",
        "Find and print the $k$ most similar titles to a given title"
      ]
    },
    {
      "cell_type": "code",
      "metadata": {
        "colab_type": "code",
        "id": "a6rIkWUrmhxd",
        "colab": {}
      },
      "source": [
        "def k_similar(seed_id, k):\n",
        "  seed_doc = corpus[seed_id]\n",
        "  print('> \"{}\"'.format(seed_doc))\n",
        "  similarities = [doc_similarity(seed_doc, doc) for id, doc in enumerate(corpus)]\n",
        "  top_indices = sorted(range(len(similarities)), key=lambda i: similarities[i])[-k:] # https://stackoverflow.com/questions/13070461/get-indices-of-the-top-n-values-of-a-list\n",
        "  nearest = [[corpus[id], similarities[id]] for id in top_indices]\n",
        "  print()\n",
        "  for story in reversed(nearest):\n",
        "    print('* \"{}\" ({})'.format(story[0], story[1]))"
      ],
      "execution_count": 0,
      "outputs": []
    },
    {
      "cell_type": "markdown",
      "metadata": {
        "colab_type": "text",
        "id": "IgPZe4rxUVPQ"
      },
      "source": [
        "# Test our program"
      ]
    },
    {
      "cell_type": "code",
      "metadata": {
        "id": "BiMccoBnnag2",
        "colab_type": "code",
        "outputId": "cca457f9-0c9a-4cf4-fd5d-45ea6b4f8f3f",
        "colab": {
          "base_uri": "https://localhost:8080/",
          "height": 139
        }
      },
      "source": [
        "#\n",
        "# 'cal_vocab_idf' calculates the idf of each word.\n",
        "# The idf of word is given by log of the result of total number of documents divided by the number of documents in which the word happens.\n",
        "#\n",
        "\n",
        "def cal_vocab_idf(vocab, doc_vocab):\n",
        "  vocab_idf = Counter()\n",
        "  for i, token in enumerate(vocab):\n",
        "    word, freq = token\n",
        "    vocab_idf[word] = 0\n",
        "    for document in doc_vocab:\n",
        "      if word in doc_vocab[document]:\n",
        "        vocab_idf[word] = vocab_idf[word] + 1\n",
        "    vocab_idf[word] = math.log(len(doc_vocab) / vocab_idf[word])\n",
        "  return vocab_idf\n",
        "\n",
        "if __debug__:\n",
        "  test_corpus = get_corpus()\n",
        "  test_vocab, test_doc_vocab = get_vocab(test_corpus)\n",
        "  test_vocab = test_vocab.most_common(100)\n",
        "  logging.debug(\"corpus: {}\".format(test_corpus))\n",
        "  logging.debug(\"vocabpus: {}\".format(test_vocab))\n",
        "  logging.debug(\"doc_vocab: {}\".format(test_doc_vocab))\n",
        "  test_vocab_idf = cal_vocab_idf(test_vocab, test_doc_vocab)\n",
        "  logging.debug(\"test_vocab_idf: {}\".format(test_vocab_idf))"
      ],
      "execution_count": 80,
      "outputs": [
        {
          "output_type": "stream",
          "text": [
            "Dataset columns: Index(['title', 'content'], dtype='object')\n",
            "Dataset size: 5354\n",
            "corpus: ['Exclusive: Apple makes iPhone screen fixes easier as states mull repair laws', 'Oil ends lower on OPEC output hike; U.S. stockpile rise seen', 'Patience an asset for U.S. businesses seeking opportunities in Cuba', 'Modi’s BJP vows to strip Muslim immigrants of vote in Assam', 'Oprah effect fails to lift Weight Watchers sales; shares plunge', 'New York, New Jersey 10-year transport plan could include rail tunnel', 'Israel calls on powers to punish Iran for its missile tests', 'Former U.S. national security adviser Brzezinski dies at 89', 'G7 ministers look to persuade Russia to abandon Syria’s Assad', 'Mosul train tunnel reveals assault course for elite Islamic State fighters', 'Trump says rival Cruz’s Canadian birthplace could be ’big problem’: Washington Post', 'Silicon Valley fights for its life on immigration', 'Oracle lawyer says Google’s Android generated $31 billion revenue', 'Rubio falters in presidential debate, offering hope to rivals', 'Johnson & Johnson approaches Actelion about takeover deal', 'Global stocks hit record highs, dollar rises on rate-hike view', 'Iran, France concerned at Syria violence with talks set to resume', 'Facebook CEO, facing wave of criticism, stops attempt to force Hawaii land sale', 'HERE, automakers team up to share data on traffic conditions', 'Lululemon quarterly sales top expectations, shares jump']\n",
            "vocabpus: [('u', 3), ('sales', 2), ('shares', 2), ('new', 2), ('could', 2), ('tunnel', 2), ('iran', 2), ('syria', 2), ('says', 2), ('johnson', 2), ('exclusive', 1), ('apple', 1), ('makes', 1), ('iphone', 1), ('screen', 1), ('fixes', 1), ('easier', 1), ('states', 1), ('mull', 1), ('repair', 1), ('laws', 1), ('oil', 1), ('ends', 1), ('lower', 1), ('opec', 1), ('output', 1), ('hike', 1), ('stockpile', 1), ('rise', 1), ('seen', 1), ('patience', 1), ('asset', 1), ('businesses', 1), ('seeking', 1), ('opportunities', 1), ('cuba', 1), ('modi', 1), ('bjp', 1), ('vows', 1), ('strip', 1), ('muslim', 1), ('immigrants', 1), ('vote', 1), ('assam', 1), ('oprah', 1), ('effect', 1), ('fails', 1), ('lift', 1), ('weight', 1), ('watchers', 1), ('plunge', 1), ('york', 1), ('jersey', 1), ('10', 1), ('transport', 1), ('plan', 1), ('include', 1), ('rail', 1), ('israel', 1), ('calls', 1), ('powers', 1), ('punish', 1), ('missile', 1), ('tests', 1), ('former', 1), ('national', 1), ('security', 1), ('adviser', 1), ('brzezinski', 1), ('dies', 1), ('89', 1), ('g7', 1), ('ministers', 1), ('look', 1), ('persuade', 1), ('russia', 1), ('abandon', 1), ('assad', 1), ('mosul', 1), ('train', 1), ('reveals', 1), ('assault', 1), ('course', 1), ('elite', 1), ('islamic', 1), ('state', 1), ('fighters', 1), ('trump', 1), ('rival', 1), ('cruz', 1), ('canadian', 1), ('birthplace', 1), ('problem', 1), ('washington', 1), ('post', 1), ('silicon', 1), ('valley', 1), ('fights', 1), ('life', 1), ('immigration', 1)]\n",
            "doc_vocab: {'Exclusive: Apple makes iPhone screen fixes easier as states mull repair laws': Counter({'LENGTH': 11, 'exclusive': 1, 'apple': 1, 'makes': 1, 'iphone': 1, 'screen': 1, 'fixes': 1, 'easier': 1, 'states': 1, 'mull': 1, 'repair': 1, 'laws': 1}), 'Oil ends lower on OPEC output hike; U.S. stockpile rise seen': Counter({'LENGTH': 10, 'oil': 1, 'ends': 1, 'lower': 1, 'opec': 1, 'output': 1, 'hike': 1, 'u': 1, 'stockpile': 1, 'rise': 1, 'seen': 1}), 'Patience an asset for U.S. businesses seeking opportunities in Cuba': Counter({'LENGTH': 7, 'patience': 1, 'asset': 1, 'u': 1, 'businesses': 1, 'seeking': 1, 'opportunities': 1, 'cuba': 1}), 'Modi’s BJP vows to strip Muslim immigrants of vote in Assam': Counter({'LENGTH': 8, 'modi': 1, 'bjp': 1, 'vows': 1, 'strip': 1, 'muslim': 1, 'immigrants': 1, 'vote': 1, 'assam': 1}), 'Oprah effect fails to lift Weight Watchers sales; shares plunge': Counter({'LENGTH': 9, 'oprah': 1, 'effect': 1, 'fails': 1, 'lift': 1, 'weight': 1, 'watchers': 1, 'sales': 1, 'shares': 1, 'plunge': 1}), 'New York, New Jersey 10-year transport plan could include rail tunnel': Counter({'LENGTH': 11, 'new': 2, 'york': 1, 'jersey': 1, '10': 1, 'transport': 1, 'plan': 1, 'could': 1, 'include': 1, 'rail': 1, 'tunnel': 1}), 'Israel calls on powers to punish Iran for its missile tests': Counter({'LENGTH': 7, 'israel': 1, 'calls': 1, 'powers': 1, 'punish': 1, 'iran': 1, 'missile': 1, 'tests': 1}), 'Former U.S. national security adviser Brzezinski dies at 89': Counter({'LENGTH': 8, 'former': 1, 'u': 1, 'national': 1, 'security': 1, 'adviser': 1, 'brzezinski': 1, 'dies': 1, '89': 1}), 'G7 ministers look to persuade Russia to abandon Syria’s Assad': Counter({'LENGTH': 8, 'g7': 1, 'ministers': 1, 'look': 1, 'persuade': 1, 'russia': 1, 'abandon': 1, 'syria': 1, 'assad': 1}), 'Mosul train tunnel reveals assault course for elite Islamic State fighters': Counter({'LENGTH': 10, 'mosul': 1, 'train': 1, 'tunnel': 1, 'reveals': 1, 'assault': 1, 'course': 1, 'elite': 1, 'islamic': 1, 'state': 1, 'fighters': 1}), 'Trump says rival Cruz’s Canadian birthplace could be ’big problem’: Washington Post': Counter({'LENGTH': 10, 'trump': 1, 'says': 1, 'rival': 1, 'cruz': 1, 'canadian': 1, 'birthplace': 1, 'could': 1, 'problem': 1, 'washington': 1, 'post': 1}), 'Silicon Valley fights for its life on immigration': Counter({'LENGTH': 5, 'silicon': 1, 'valley': 1, 'fights': 1, 'life': 1, 'immigration': 1}), 'Oracle lawyer says Google’s Android generated $31 billion revenue': Counter({'LENGTH': 8, 'oracle': 1, 'lawyer': 1, 'says': 1, 'google': 1, 'android': 1, 'generated': 1, 'billion': 1, 'revenue': 1}), 'Rubio falters in presidential debate, offering hope to rivals': Counter({'LENGTH': 7, 'rubio': 1, 'falters': 1, 'presidential': 1, 'debate': 1, 'offering': 1, 'hope': 1, 'rivals': 1}), 'Johnson & Johnson approaches Actelion about takeover deal': Counter({'LENGTH': 6, 'johnson': 2, 'approaches': 1, 'actelion': 1, 'takeover': 1, 'deal': 1}), 'Global stocks hit record highs, dollar rises on rate-hike view': Counter({'LENGTH': 9, 'global': 1, 'stocks': 1, 'hit': 1, 'record': 1, 'highs': 1, 'dollar': 1, 'rises': 1, 'rate': 1, 'view': 1}), 'Iran, France concerned at Syria violence with talks set to resume': Counter({'LENGTH': 8, 'iran': 1, 'france': 1, 'concerned': 1, 'syria': 1, 'violence': 1, 'talks': 1, 'set': 1, 'resume': 1}), 'Facebook CEO, facing wave of criticism, stops attempt to force Hawaii land sale': Counter({'LENGTH': 11, 'facebook': 1, 'ceo': 1, 'facing': 1, 'wave': 1, 'criticism': 1, 'stops': 1, 'attempt': 1, 'force': 1, 'hawaii': 1, 'land': 1, 'sale': 1}), 'HERE, automakers team up to share data on traffic conditions': Counter({'LENGTH': 6, 'automakers': 1, 'team': 1, 'share': 1, 'data': 1, 'traffic': 1, 'conditions': 1}), 'Lululemon quarterly sales top expectations, shares jump': Counter({'LENGTH': 7, 'lululemon': 1, 'quarterly': 1, 'sales': 1, 'top': 1, 'expectations': 1, 'shares': 1, 'jump': 1})}\n",
            "test_vocab_idf: Counter({'new': 2.995732273553991, 'johnson': 2.995732273553991, 'exclusive': 2.995732273553991, 'apple': 2.995732273553991, 'makes': 2.995732273553991, 'iphone': 2.995732273553991, 'screen': 2.995732273553991, 'fixes': 2.995732273553991, 'easier': 2.995732273553991, 'states': 2.995732273553991, 'mull': 2.995732273553991, 'repair': 2.995732273553991, 'laws': 2.995732273553991, 'oil': 2.995732273553991, 'ends': 2.995732273553991, 'lower': 2.995732273553991, 'opec': 2.995732273553991, 'output': 2.995732273553991, 'hike': 2.995732273553991, 'stockpile': 2.995732273553991, 'rise': 2.995732273553991, 'seen': 2.995732273553991, 'patience': 2.995732273553991, 'asset': 2.995732273553991, 'businesses': 2.995732273553991, 'seeking': 2.995732273553991, 'opportunities': 2.995732273553991, 'cuba': 2.995732273553991, 'modi': 2.995732273553991, 'bjp': 2.995732273553991, 'vows': 2.995732273553991, 'strip': 2.995732273553991, 'muslim': 2.995732273553991, 'immigrants': 2.995732273553991, 'vote': 2.995732273553991, 'assam': 2.995732273553991, 'oprah': 2.995732273553991, 'effect': 2.995732273553991, 'fails': 2.995732273553991, 'lift': 2.995732273553991, 'weight': 2.995732273553991, 'watchers': 2.995732273553991, 'plunge': 2.995732273553991, 'york': 2.995732273553991, 'jersey': 2.995732273553991, '10': 2.995732273553991, 'transport': 2.995732273553991, 'plan': 2.995732273553991, 'include': 2.995732273553991, 'rail': 2.995732273553991, 'israel': 2.995732273553991, 'calls': 2.995732273553991, 'powers': 2.995732273553991, 'punish': 2.995732273553991, 'missile': 2.995732273553991, 'tests': 2.995732273553991, 'former': 2.995732273553991, 'national': 2.995732273553991, 'security': 2.995732273553991, 'adviser': 2.995732273553991, 'brzezinski': 2.995732273553991, 'dies': 2.995732273553991, '89': 2.995732273553991, 'g7': 2.995732273553991, 'ministers': 2.995732273553991, 'look': 2.995732273553991, 'persuade': 2.995732273553991, 'russia': 2.995732273553991, 'abandon': 2.995732273553991, 'assad': 2.995732273553991, 'mosul': 2.995732273553991, 'train': 2.995732273553991, 'reveals': 2.995732273553991, 'assault': 2.995732273553991, 'course': 2.995732273553991, 'elite': 2.995732273553991, 'islamic': 2.995732273553991, 'state': 2.995732273553991, 'fighters': 2.995732273553991, 'trump': 2.995732273553991, 'rival': 2.995732273553991, 'cruz': 2.995732273553991, 'canadian': 2.995732273553991, 'birthplace': 2.995732273553991, 'problem': 2.995732273553991, 'washington': 2.995732273553991, 'post': 2.995732273553991, 'silicon': 2.995732273553991, 'valley': 2.995732273553991, 'fights': 2.995732273553991, 'life': 2.995732273553991, 'immigration': 2.995732273553991, 'sales': 2.302585092994046, 'shares': 2.302585092994046, 'could': 2.302585092994046, 'tunnel': 2.302585092994046, 'iran': 2.302585092994046, 'syria': 2.302585092994046, 'says': 2.302585092994046, 'u': 1.8971199848858813})\n"
          ],
          "name": "stderr"
        }
      ]
    },
    {
      "cell_type": "code",
      "metadata": {
        "id": "G2tXw2xOTgR1",
        "colab_type": "code",
        "colab": {
          "base_uri": "https://localhost:8080/",
          "height": 88
        },
        "outputId": "51257725-1c39-4e65-94cb-04cb9b7f25ce"
      },
      "source": [
        "def cal_doc_tfidf_vec(vocab, doc_vocab, vocb_idf):\n",
        "  doc_tfidf_vec = {}\n",
        "  for document in doc_vocab:\n",
        "    doc_tfidf_vec[document] = []\n",
        "    for i, token in enumerate(vocab): \n",
        "      word, freq = token\n",
        "      # doc_vocab[document][word]: the count of the word in this document\n",
        "      # doc_vocab[document]['LENGTH']: the count of total words in this document\n",
        "      # vocb_idf[word]: the word's idf\n",
        "      doc_tfidf_vec[document] = doc_tfidf_vec[document] + [(doc_vocab[document][word] / doc_vocab[document]['LENGTH']) * vocb_idf[word]]\n",
        "  return doc_tfidf_vec\n",
        "\n",
        "if __debug__:\n",
        "  test_corpus = get_corpus()\n",
        "  test_vocab, test_doc_vocab = get_vocab(test_corpus)\n",
        "  test_vocab = test_vocab.most_common(100)\n",
        "  test_vocab_idf = cal_vocab_idf(test_vocab, test_doc_vocab)\n",
        "  #logging.debug(\"corpus: {}\".format(test_corpus))\n",
        "  #logging.debug(\"vocabpus: {}\".format(test_vocab))\n",
        "  #logging.debug(\"doc_vocab: {}\".format(test_doc_vocab))\n",
        "  #logging.debug(\"test_vocab_idf: {}\".format(test_vocab_idf))\n",
        "  \n",
        "  test_doc_tfidf_vec = cal_doc_tfidf_vec(test_vocab, test_doc_vocab, test_vocab_idf)\n",
        "  logging.debug(\"test_doc_tfidf_vec: {}\".format(test_doc_tfidf_vec))"
      ],
      "execution_count": 81,
      "outputs": [
        {
          "output_type": "stream",
          "text": [
            "Dataset columns: Index(['title', 'content'], dtype='object')\n",
            "Dataset size: 5354\n",
            "test_doc_tfidf_vec: {'Exclusive: Apple makes iPhone screen fixes easier as states mull repair laws': [0.0, 0.0, 0.0, 0.0, 0.0, 0.0, 0.0, 0.0, 0.0, 0.0, 0.2723392975958174, 0.2723392975958174, 0.2723392975958174, 0.2723392975958174, 0.2723392975958174, 0.2723392975958174, 0.2723392975958174, 0.2723392975958174, 0.2723392975958174, 0.2723392975958174, 0.2723392975958174, 0.0, 0.0, 0.0, 0.0, 0.0, 0.0, 0.0, 0.0, 0.0, 0.0, 0.0, 0.0, 0.0, 0.0, 0.0, 0.0, 0.0, 0.0, 0.0, 0.0, 0.0, 0.0, 0.0, 0.0, 0.0, 0.0, 0.0, 0.0, 0.0, 0.0, 0.0, 0.0, 0.0, 0.0, 0.0, 0.0, 0.0, 0.0, 0.0, 0.0, 0.0, 0.0, 0.0, 0.0, 0.0, 0.0, 0.0, 0.0, 0.0, 0.0, 0.0, 0.0, 0.0, 0.0, 0.0, 0.0, 0.0, 0.0, 0.0, 0.0, 0.0, 0.0, 0.0, 0.0, 0.0, 0.0, 0.0, 0.0, 0.0, 0.0, 0.0, 0.0, 0.0, 0.0, 0.0, 0.0, 0.0, 0.0, 0.0], 'Oil ends lower on OPEC output hike; U.S. stockpile rise seen': [0.18971199848858813, 0.0, 0.0, 0.0, 0.0, 0.0, 0.0, 0.0, 0.0, 0.0, 0.0, 0.0, 0.0, 0.0, 0.0, 0.0, 0.0, 0.0, 0.0, 0.0, 0.0, 0.2995732273553991, 0.2995732273553991, 0.2995732273553991, 0.2995732273553991, 0.2995732273553991, 0.2995732273553991, 0.2995732273553991, 0.2995732273553991, 0.2995732273553991, 0.0, 0.0, 0.0, 0.0, 0.0, 0.0, 0.0, 0.0, 0.0, 0.0, 0.0, 0.0, 0.0, 0.0, 0.0, 0.0, 0.0, 0.0, 0.0, 0.0, 0.0, 0.0, 0.0, 0.0, 0.0, 0.0, 0.0, 0.0, 0.0, 0.0, 0.0, 0.0, 0.0, 0.0, 0.0, 0.0, 0.0, 0.0, 0.0, 0.0, 0.0, 0.0, 0.0, 0.0, 0.0, 0.0, 0.0, 0.0, 0.0, 0.0, 0.0, 0.0, 0.0, 0.0, 0.0, 0.0, 0.0, 0.0, 0.0, 0.0, 0.0, 0.0, 0.0, 0.0, 0.0, 0.0, 0.0, 0.0, 0.0, 0.0], 'Patience an asset for U.S. businesses seeking opportunities in Cuba': [0.27101714069798305, 0.0, 0.0, 0.0, 0.0, 0.0, 0.0, 0.0, 0.0, 0.0, 0.0, 0.0, 0.0, 0.0, 0.0, 0.0, 0.0, 0.0, 0.0, 0.0, 0.0, 0.0, 0.0, 0.0, 0.0, 0.0, 0.0, 0.0, 0.0, 0.0, 0.4279617533648558, 0.4279617533648558, 0.4279617533648558, 0.4279617533648558, 0.4279617533648558, 0.4279617533648558, 0.0, 0.0, 0.0, 0.0, 0.0, 0.0, 0.0, 0.0, 0.0, 0.0, 0.0, 0.0, 0.0, 0.0, 0.0, 0.0, 0.0, 0.0, 0.0, 0.0, 0.0, 0.0, 0.0, 0.0, 0.0, 0.0, 0.0, 0.0, 0.0, 0.0, 0.0, 0.0, 0.0, 0.0, 0.0, 0.0, 0.0, 0.0, 0.0, 0.0, 0.0, 0.0, 0.0, 0.0, 0.0, 0.0, 0.0, 0.0, 0.0, 0.0, 0.0, 0.0, 0.0, 0.0, 0.0, 0.0, 0.0, 0.0, 0.0, 0.0, 0.0, 0.0, 0.0, 0.0], 'Modi’s BJP vows to strip Muslim immigrants of vote in Assam': [0.0, 0.0, 0.0, 0.0, 0.0, 0.0, 0.0, 0.0, 0.0, 0.0, 0.0, 0.0, 0.0, 0.0, 0.0, 0.0, 0.0, 0.0, 0.0, 0.0, 0.0, 0.0, 0.0, 0.0, 0.0, 0.0, 0.0, 0.0, 0.0, 0.0, 0.0, 0.0, 0.0, 0.0, 0.0, 0.0, 0.37446653419424886, 0.37446653419424886, 0.37446653419424886, 0.37446653419424886, 0.37446653419424886, 0.37446653419424886, 0.37446653419424886, 0.37446653419424886, 0.0, 0.0, 0.0, 0.0, 0.0, 0.0, 0.0, 0.0, 0.0, 0.0, 0.0, 0.0, 0.0, 0.0, 0.0, 0.0, 0.0, 0.0, 0.0, 0.0, 0.0, 0.0, 0.0, 0.0, 0.0, 0.0, 0.0, 0.0, 0.0, 0.0, 0.0, 0.0, 0.0, 0.0, 0.0, 0.0, 0.0, 0.0, 0.0, 0.0, 0.0, 0.0, 0.0, 0.0, 0.0, 0.0, 0.0, 0.0, 0.0, 0.0, 0.0, 0.0, 0.0, 0.0, 0.0, 0.0], 'Oprah effect fails to lift Weight Watchers sales; shares plunge': [0.0, 0.2558427881104495, 0.2558427881104495, 0.0, 0.0, 0.0, 0.0, 0.0, 0.0, 0.0, 0.0, 0.0, 0.0, 0.0, 0.0, 0.0, 0.0, 0.0, 0.0, 0.0, 0.0, 0.0, 0.0, 0.0, 0.0, 0.0, 0.0, 0.0, 0.0, 0.0, 0.0, 0.0, 0.0, 0.0, 0.0, 0.0, 0.0, 0.0, 0.0, 0.0, 0.0, 0.0, 0.0, 0.0, 0.332859141505999, 0.332859141505999, 0.332859141505999, 0.332859141505999, 0.332859141505999, 0.332859141505999, 0.332859141505999, 0.0, 0.0, 0.0, 0.0, 0.0, 0.0, 0.0, 0.0, 0.0, 0.0, 0.0, 0.0, 0.0, 0.0, 0.0, 0.0, 0.0, 0.0, 0.0, 0.0, 0.0, 0.0, 0.0, 0.0, 0.0, 0.0, 0.0, 0.0, 0.0, 0.0, 0.0, 0.0, 0.0, 0.0, 0.0, 0.0, 0.0, 0.0, 0.0, 0.0, 0.0, 0.0, 0.0, 0.0, 0.0, 0.0, 0.0, 0.0, 0.0], 'New York, New Jersey 10-year transport plan could include rail tunnel': [0.0, 0.0, 0.0, 0.5446785951916348, 0.20932591754491328, 0.20932591754491328, 0.0, 0.0, 0.0, 0.0, 0.0, 0.0, 0.0, 0.0, 0.0, 0.0, 0.0, 0.0, 0.0, 0.0, 0.0, 0.0, 0.0, 0.0, 0.0, 0.0, 0.0, 0.0, 0.0, 0.0, 0.0, 0.0, 0.0, 0.0, 0.0, 0.0, 0.0, 0.0, 0.0, 0.0, 0.0, 0.0, 0.0, 0.0, 0.0, 0.0, 0.0, 0.0, 0.0, 0.0, 0.0, 0.2723392975958174, 0.2723392975958174, 0.2723392975958174, 0.2723392975958174, 0.2723392975958174, 0.2723392975958174, 0.2723392975958174, 0.0, 0.0, 0.0, 0.0, 0.0, 0.0, 0.0, 0.0, 0.0, 0.0, 0.0, 0.0, 0.0, 0.0, 0.0, 0.0, 0.0, 0.0, 0.0, 0.0, 0.0, 0.0, 0.0, 0.0, 0.0, 0.0, 0.0, 0.0, 0.0, 0.0, 0.0, 0.0, 0.0, 0.0, 0.0, 0.0, 0.0, 0.0, 0.0, 0.0, 0.0, 0.0], 'Israel calls on powers to punish Iran for its missile tests': [0.0, 0.0, 0.0, 0.0, 0.0, 0.0, 0.32894072757057796, 0.0, 0.0, 0.0, 0.0, 0.0, 0.0, 0.0, 0.0, 0.0, 0.0, 0.0, 0.0, 0.0, 0.0, 0.0, 0.0, 0.0, 0.0, 0.0, 0.0, 0.0, 0.0, 0.0, 0.0, 0.0, 0.0, 0.0, 0.0, 0.0, 0.0, 0.0, 0.0, 0.0, 0.0, 0.0, 0.0, 0.0, 0.0, 0.0, 0.0, 0.0, 0.0, 0.0, 0.0, 0.0, 0.0, 0.0, 0.0, 0.0, 0.0, 0.0, 0.4279617533648558, 0.4279617533648558, 0.4279617533648558, 0.4279617533648558, 0.4279617533648558, 0.4279617533648558, 0.0, 0.0, 0.0, 0.0, 0.0, 0.0, 0.0, 0.0, 0.0, 0.0, 0.0, 0.0, 0.0, 0.0, 0.0, 0.0, 0.0, 0.0, 0.0, 0.0, 0.0, 0.0, 0.0, 0.0, 0.0, 0.0, 0.0, 0.0, 0.0, 0.0, 0.0, 0.0, 0.0, 0.0, 0.0, 0.0], 'Former U.S. national security adviser Brzezinski dies at 89': [0.23713999811073516, 0.0, 0.0, 0.0, 0.0, 0.0, 0.0, 0.0, 0.0, 0.0, 0.0, 0.0, 0.0, 0.0, 0.0, 0.0, 0.0, 0.0, 0.0, 0.0, 0.0, 0.0, 0.0, 0.0, 0.0, 0.0, 0.0, 0.0, 0.0, 0.0, 0.0, 0.0, 0.0, 0.0, 0.0, 0.0, 0.0, 0.0, 0.0, 0.0, 0.0, 0.0, 0.0, 0.0, 0.0, 0.0, 0.0, 0.0, 0.0, 0.0, 0.0, 0.0, 0.0, 0.0, 0.0, 0.0, 0.0, 0.0, 0.0, 0.0, 0.0, 0.0, 0.0, 0.0, 0.37446653419424886, 0.37446653419424886, 0.37446653419424886, 0.37446653419424886, 0.37446653419424886, 0.37446653419424886, 0.37446653419424886, 0.0, 0.0, 0.0, 0.0, 0.0, 0.0, 0.0, 0.0, 0.0, 0.0, 0.0, 0.0, 0.0, 0.0, 0.0, 0.0, 0.0, 0.0, 0.0, 0.0, 0.0, 0.0, 0.0, 0.0, 0.0, 0.0, 0.0, 0.0, 0.0], 'G7 ministers look to persuade Russia to abandon Syria’s Assad': [0.0, 0.0, 0.0, 0.0, 0.0, 0.0, 0.0, 0.28782313662425574, 0.0, 0.0, 0.0, 0.0, 0.0, 0.0, 0.0, 0.0, 0.0, 0.0, 0.0, 0.0, 0.0, 0.0, 0.0, 0.0, 0.0, 0.0, 0.0, 0.0, 0.0, 0.0, 0.0, 0.0, 0.0, 0.0, 0.0, 0.0, 0.0, 0.0, 0.0, 0.0, 0.0, 0.0, 0.0, 0.0, 0.0, 0.0, 0.0, 0.0, 0.0, 0.0, 0.0, 0.0, 0.0, 0.0, 0.0, 0.0, 0.0, 0.0, 0.0, 0.0, 0.0, 0.0, 0.0, 0.0, 0.0, 0.0, 0.0, 0.0, 0.0, 0.0, 0.0, 0.37446653419424886, 0.37446653419424886, 0.37446653419424886, 0.37446653419424886, 0.37446653419424886, 0.37446653419424886, 0.37446653419424886, 0.0, 0.0, 0.0, 0.0, 0.0, 0.0, 0.0, 0.0, 0.0, 0.0, 0.0, 0.0, 0.0, 0.0, 0.0, 0.0, 0.0, 0.0, 0.0, 0.0, 0.0, 0.0], 'Mosul train tunnel reveals assault course for elite Islamic State fighters': [0.0, 0.0, 0.0, 0.0, 0.0, 0.2302585092994046, 0.0, 0.0, 0.0, 0.0, 0.0, 0.0, 0.0, 0.0, 0.0, 0.0, 0.0, 0.0, 0.0, 0.0, 0.0, 0.0, 0.0, 0.0, 0.0, 0.0, 0.0, 0.0, 0.0, 0.0, 0.0, 0.0, 0.0, 0.0, 0.0, 0.0, 0.0, 0.0, 0.0, 0.0, 0.0, 0.0, 0.0, 0.0, 0.0, 0.0, 0.0, 0.0, 0.0, 0.0, 0.0, 0.0, 0.0, 0.0, 0.0, 0.0, 0.0, 0.0, 0.0, 0.0, 0.0, 0.0, 0.0, 0.0, 0.0, 0.0, 0.0, 0.0, 0.0, 0.0, 0.0, 0.0, 0.0, 0.0, 0.0, 0.0, 0.0, 0.0, 0.2995732273553991, 0.2995732273553991, 0.2995732273553991, 0.2995732273553991, 0.2995732273553991, 0.2995732273553991, 0.2995732273553991, 0.2995732273553991, 0.2995732273553991, 0.0, 0.0, 0.0, 0.0, 0.0, 0.0, 0.0, 0.0, 0.0, 0.0, 0.0, 0.0, 0.0], 'Trump says rival Cruz’s Canadian birthplace could be ’big problem’: Washington Post': [0.0, 0.0, 0.0, 0.0, 0.2302585092994046, 0.0, 0.0, 0.0, 0.2302585092994046, 0.0, 0.0, 0.0, 0.0, 0.0, 0.0, 0.0, 0.0, 0.0, 0.0, 0.0, 0.0, 0.0, 0.0, 0.0, 0.0, 0.0, 0.0, 0.0, 0.0, 0.0, 0.0, 0.0, 0.0, 0.0, 0.0, 0.0, 0.0, 0.0, 0.0, 0.0, 0.0, 0.0, 0.0, 0.0, 0.0, 0.0, 0.0, 0.0, 0.0, 0.0, 0.0, 0.0, 0.0, 0.0, 0.0, 0.0, 0.0, 0.0, 0.0, 0.0, 0.0, 0.0, 0.0, 0.0, 0.0, 0.0, 0.0, 0.0, 0.0, 0.0, 0.0, 0.0, 0.0, 0.0, 0.0, 0.0, 0.0, 0.0, 0.0, 0.0, 0.0, 0.0, 0.0, 0.0, 0.0, 0.0, 0.0, 0.2995732273553991, 0.2995732273553991, 0.2995732273553991, 0.2995732273553991, 0.2995732273553991, 0.2995732273553991, 0.2995732273553991, 0.2995732273553991, 0.0, 0.0, 0.0, 0.0, 0.0], 'Silicon Valley fights for its life on immigration': [0.0, 0.0, 0.0, 0.0, 0.0, 0.0, 0.0, 0.0, 0.0, 0.0, 0.0, 0.0, 0.0, 0.0, 0.0, 0.0, 0.0, 0.0, 0.0, 0.0, 0.0, 0.0, 0.0, 0.0, 0.0, 0.0, 0.0, 0.0, 0.0, 0.0, 0.0, 0.0, 0.0, 0.0, 0.0, 0.0, 0.0, 0.0, 0.0, 0.0, 0.0, 0.0, 0.0, 0.0, 0.0, 0.0, 0.0, 0.0, 0.0, 0.0, 0.0, 0.0, 0.0, 0.0, 0.0, 0.0, 0.0, 0.0, 0.0, 0.0, 0.0, 0.0, 0.0, 0.0, 0.0, 0.0, 0.0, 0.0, 0.0, 0.0, 0.0, 0.0, 0.0, 0.0, 0.0, 0.0, 0.0, 0.0, 0.0, 0.0, 0.0, 0.0, 0.0, 0.0, 0.0, 0.0, 0.0, 0.0, 0.0, 0.0, 0.0, 0.0, 0.0, 0.0, 0.0, 0.5991464547107982, 0.5991464547107982, 0.5991464547107982, 0.5991464547107982, 0.5991464547107982], 'Oracle lawyer says Google’s Android generated $31 billion revenue': [0.0, 0.0, 0.0, 0.0, 0.0, 0.0, 0.0, 0.0, 0.28782313662425574, 0.0, 0.0, 0.0, 0.0, 0.0, 0.0, 0.0, 0.0, 0.0, 0.0, 0.0, 0.0, 0.0, 0.0, 0.0, 0.0, 0.0, 0.0, 0.0, 0.0, 0.0, 0.0, 0.0, 0.0, 0.0, 0.0, 0.0, 0.0, 0.0, 0.0, 0.0, 0.0, 0.0, 0.0, 0.0, 0.0, 0.0, 0.0, 0.0, 0.0, 0.0, 0.0, 0.0, 0.0, 0.0, 0.0, 0.0, 0.0, 0.0, 0.0, 0.0, 0.0, 0.0, 0.0, 0.0, 0.0, 0.0, 0.0, 0.0, 0.0, 0.0, 0.0, 0.0, 0.0, 0.0, 0.0, 0.0, 0.0, 0.0, 0.0, 0.0, 0.0, 0.0, 0.0, 0.0, 0.0, 0.0, 0.0, 0.0, 0.0, 0.0, 0.0, 0.0, 0.0, 0.0, 0.0, 0.0, 0.0, 0.0, 0.0, 0.0], 'Rubio falters in presidential debate, offering hope to rivals': [0.0, 0.0, 0.0, 0.0, 0.0, 0.0, 0.0, 0.0, 0.0, 0.0, 0.0, 0.0, 0.0, 0.0, 0.0, 0.0, 0.0, 0.0, 0.0, 0.0, 0.0, 0.0, 0.0, 0.0, 0.0, 0.0, 0.0, 0.0, 0.0, 0.0, 0.0, 0.0, 0.0, 0.0, 0.0, 0.0, 0.0, 0.0, 0.0, 0.0, 0.0, 0.0, 0.0, 0.0, 0.0, 0.0, 0.0, 0.0, 0.0, 0.0, 0.0, 0.0, 0.0, 0.0, 0.0, 0.0, 0.0, 0.0, 0.0, 0.0, 0.0, 0.0, 0.0, 0.0, 0.0, 0.0, 0.0, 0.0, 0.0, 0.0, 0.0, 0.0, 0.0, 0.0, 0.0, 0.0, 0.0, 0.0, 0.0, 0.0, 0.0, 0.0, 0.0, 0.0, 0.0, 0.0, 0.0, 0.0, 0.0, 0.0, 0.0, 0.0, 0.0, 0.0, 0.0, 0.0, 0.0, 0.0, 0.0, 0.0], 'Johnson & Johnson approaches Actelion about takeover deal': [0.0, 0.0, 0.0, 0.0, 0.0, 0.0, 0.0, 0.0, 0.0, 0.9985774245179969, 0.0, 0.0, 0.0, 0.0, 0.0, 0.0, 0.0, 0.0, 0.0, 0.0, 0.0, 0.0, 0.0, 0.0, 0.0, 0.0, 0.0, 0.0, 0.0, 0.0, 0.0, 0.0, 0.0, 0.0, 0.0, 0.0, 0.0, 0.0, 0.0, 0.0, 0.0, 0.0, 0.0, 0.0, 0.0, 0.0, 0.0, 0.0, 0.0, 0.0, 0.0, 0.0, 0.0, 0.0, 0.0, 0.0, 0.0, 0.0, 0.0, 0.0, 0.0, 0.0, 0.0, 0.0, 0.0, 0.0, 0.0, 0.0, 0.0, 0.0, 0.0, 0.0, 0.0, 0.0, 0.0, 0.0, 0.0, 0.0, 0.0, 0.0, 0.0, 0.0, 0.0, 0.0, 0.0, 0.0, 0.0, 0.0, 0.0, 0.0, 0.0, 0.0, 0.0, 0.0, 0.0, 0.0, 0.0, 0.0, 0.0, 0.0], 'Global stocks hit record highs, dollar rises on rate-hike view': [0.0, 0.0, 0.0, 0.0, 0.0, 0.0, 0.0, 0.0, 0.0, 0.0, 0.0, 0.0, 0.0, 0.0, 0.0, 0.0, 0.0, 0.0, 0.0, 0.0, 0.0, 0.0, 0.0, 0.0, 0.0, 0.0, 0.0, 0.0, 0.0, 0.0, 0.0, 0.0, 0.0, 0.0, 0.0, 0.0, 0.0, 0.0, 0.0, 0.0, 0.0, 0.0, 0.0, 0.0, 0.0, 0.0, 0.0, 0.0, 0.0, 0.0, 0.0, 0.0, 0.0, 0.0, 0.0, 0.0, 0.0, 0.0, 0.0, 0.0, 0.0, 0.0, 0.0, 0.0, 0.0, 0.0, 0.0, 0.0, 0.0, 0.0, 0.0, 0.0, 0.0, 0.0, 0.0, 0.0, 0.0, 0.0, 0.0, 0.0, 0.0, 0.0, 0.0, 0.0, 0.0, 0.0, 0.0, 0.0, 0.0, 0.0, 0.0, 0.0, 0.0, 0.0, 0.0, 0.0, 0.0, 0.0, 0.0, 0.0], 'Iran, France concerned at Syria violence with talks set to resume': [0.0, 0.0, 0.0, 0.0, 0.0, 0.0, 0.28782313662425574, 0.28782313662425574, 0.0, 0.0, 0.0, 0.0, 0.0, 0.0, 0.0, 0.0, 0.0, 0.0, 0.0, 0.0, 0.0, 0.0, 0.0, 0.0, 0.0, 0.0, 0.0, 0.0, 0.0, 0.0, 0.0, 0.0, 0.0, 0.0, 0.0, 0.0, 0.0, 0.0, 0.0, 0.0, 0.0, 0.0, 0.0, 0.0, 0.0, 0.0, 0.0, 0.0, 0.0, 0.0, 0.0, 0.0, 0.0, 0.0, 0.0, 0.0, 0.0, 0.0, 0.0, 0.0, 0.0, 0.0, 0.0, 0.0, 0.0, 0.0, 0.0, 0.0, 0.0, 0.0, 0.0, 0.0, 0.0, 0.0, 0.0, 0.0, 0.0, 0.0, 0.0, 0.0, 0.0, 0.0, 0.0, 0.0, 0.0, 0.0, 0.0, 0.0, 0.0, 0.0, 0.0, 0.0, 0.0, 0.0, 0.0, 0.0, 0.0, 0.0, 0.0, 0.0], 'Facebook CEO, facing wave of criticism, stops attempt to force Hawaii land sale': [0.0, 0.0, 0.0, 0.0, 0.0, 0.0, 0.0, 0.0, 0.0, 0.0, 0.0, 0.0, 0.0, 0.0, 0.0, 0.0, 0.0, 0.0, 0.0, 0.0, 0.0, 0.0, 0.0, 0.0, 0.0, 0.0, 0.0, 0.0, 0.0, 0.0, 0.0, 0.0, 0.0, 0.0, 0.0, 0.0, 0.0, 0.0, 0.0, 0.0, 0.0, 0.0, 0.0, 0.0, 0.0, 0.0, 0.0, 0.0, 0.0, 0.0, 0.0, 0.0, 0.0, 0.0, 0.0, 0.0, 0.0, 0.0, 0.0, 0.0, 0.0, 0.0, 0.0, 0.0, 0.0, 0.0, 0.0, 0.0, 0.0, 0.0, 0.0, 0.0, 0.0, 0.0, 0.0, 0.0, 0.0, 0.0, 0.0, 0.0, 0.0, 0.0, 0.0, 0.0, 0.0, 0.0, 0.0, 0.0, 0.0, 0.0, 0.0, 0.0, 0.0, 0.0, 0.0, 0.0, 0.0, 0.0, 0.0, 0.0], 'HERE, automakers team up to share data on traffic conditions': [0.0, 0.0, 0.0, 0.0, 0.0, 0.0, 0.0, 0.0, 0.0, 0.0, 0.0, 0.0, 0.0, 0.0, 0.0, 0.0, 0.0, 0.0, 0.0, 0.0, 0.0, 0.0, 0.0, 0.0, 0.0, 0.0, 0.0, 0.0, 0.0, 0.0, 0.0, 0.0, 0.0, 0.0, 0.0, 0.0, 0.0, 0.0, 0.0, 0.0, 0.0, 0.0, 0.0, 0.0, 0.0, 0.0, 0.0, 0.0, 0.0, 0.0, 0.0, 0.0, 0.0, 0.0, 0.0, 0.0, 0.0, 0.0, 0.0, 0.0, 0.0, 0.0, 0.0, 0.0, 0.0, 0.0, 0.0, 0.0, 0.0, 0.0, 0.0, 0.0, 0.0, 0.0, 0.0, 0.0, 0.0, 0.0, 0.0, 0.0, 0.0, 0.0, 0.0, 0.0, 0.0, 0.0, 0.0, 0.0, 0.0, 0.0, 0.0, 0.0, 0.0, 0.0, 0.0, 0.0, 0.0, 0.0, 0.0, 0.0], 'Lululemon quarterly sales top expectations, shares jump': [0.0, 0.32894072757057796, 0.32894072757057796, 0.0, 0.0, 0.0, 0.0, 0.0, 0.0, 0.0, 0.0, 0.0, 0.0, 0.0, 0.0, 0.0, 0.0, 0.0, 0.0, 0.0, 0.0, 0.0, 0.0, 0.0, 0.0, 0.0, 0.0, 0.0, 0.0, 0.0, 0.0, 0.0, 0.0, 0.0, 0.0, 0.0, 0.0, 0.0, 0.0, 0.0, 0.0, 0.0, 0.0, 0.0, 0.0, 0.0, 0.0, 0.0, 0.0, 0.0, 0.0, 0.0, 0.0, 0.0, 0.0, 0.0, 0.0, 0.0, 0.0, 0.0, 0.0, 0.0, 0.0, 0.0, 0.0, 0.0, 0.0, 0.0, 0.0, 0.0, 0.0, 0.0, 0.0, 0.0, 0.0, 0.0, 0.0, 0.0, 0.0, 0.0, 0.0, 0.0, 0.0, 0.0, 0.0, 0.0, 0.0, 0.0, 0.0, 0.0, 0.0, 0.0, 0.0, 0.0, 0.0, 0.0, 0.0, 0.0, 0.0, 0.0]}\n"
          ],
          "name": "stderr"
        }
      ]
    },
    {
      "cell_type": "code",
      "metadata": {
        "colab_type": "code",
        "id": "HjW8MQXZUmJU",
        "outputId": "b5df2b06-cad0-48bd-e938-ff23cff6eb11",
        "colab": {
          "base_uri": "https://localhost:8080/",
          "height": 207
        }
      },
      "source": [
        "corpus = get_corpus()\n",
        "vocab, doc_vocab = get_vocab(corpus)\n",
        "vocab = vocab.most_common(100)\n",
        "vocab_idf = cal_vocab_idf(vocab, doc_vocab)\n",
        "doc_tfidf_vec = cal_doc_tfidf_vec(vocab, doc_vocab, vocab_idf)\n",
        "\n",
        "print(vocab)\n",
        "k_similar(10, 5)"
      ],
      "execution_count": 82,
      "outputs": [
        {
          "output_type": "stream",
          "text": [
            "Dataset columns: Index(['title', 'content'], dtype='object')\n",
            "Dataset size: 5354\n"
          ],
          "name": "stderr"
        },
        {
          "output_type": "stream",
          "text": [
            "[('u', 3), ('sales', 2), ('shares', 2), ('new', 2), ('could', 2), ('tunnel', 2), ('iran', 2), ('syria', 2), ('says', 2), ('johnson', 2), ('exclusive', 1), ('apple', 1), ('makes', 1), ('iphone', 1), ('screen', 1), ('fixes', 1), ('easier', 1), ('states', 1), ('mull', 1), ('repair', 1), ('laws', 1), ('oil', 1), ('ends', 1), ('lower', 1), ('opec', 1), ('output', 1), ('hike', 1), ('stockpile', 1), ('rise', 1), ('seen', 1), ('patience', 1), ('asset', 1), ('businesses', 1), ('seeking', 1), ('opportunities', 1), ('cuba', 1), ('modi', 1), ('bjp', 1), ('vows', 1), ('strip', 1), ('muslim', 1), ('immigrants', 1), ('vote', 1), ('assam', 1), ('oprah', 1), ('effect', 1), ('fails', 1), ('lift', 1), ('weight', 1), ('watchers', 1), ('plunge', 1), ('york', 1), ('jersey', 1), ('10', 1), ('transport', 1), ('plan', 1), ('include', 1), ('rail', 1), ('israel', 1), ('calls', 1), ('powers', 1), ('punish', 1), ('missile', 1), ('tests', 1), ('former', 1), ('national', 1), ('security', 1), ('adviser', 1), ('brzezinski', 1), ('dies', 1), ('89', 1), ('g7', 1), ('ministers', 1), ('look', 1), ('persuade', 1), ('russia', 1), ('abandon', 1), ('assad', 1), ('mosul', 1), ('train', 1), ('reveals', 1), ('assault', 1), ('course', 1), ('elite', 1), ('islamic', 1), ('state', 1), ('fighters', 1), ('trump', 1), ('rival', 1), ('cruz', 1), ('canadian', 1), ('birthplace', 1), ('problem', 1), ('washington', 1), ('post', 1), ('silicon', 1), ('valley', 1), ('fights', 1), ('life', 1), ('immigration', 1)]\n",
            "> \"Trump says rival Cruz’s Canadian birthplace could be ’big problem’: Washington Post\"\n",
            "\n",
            "* \"Trump says rival Cruz’s Canadian birthplace could be ’big problem’: Washington Post\" (0.9999999999999998)\n",
            "* \"Oracle lawyer says Google’s Android generated $31 billion revenue\" (0.31622776601683794)\n",
            "* \"New York, New Jersey 10-year transport plan could include rail tunnel\" (0.09999999999999998)\n",
            "* \"Lululemon quarterly sales top expectations, shares jump\" (0.0)\n",
            "* \"HERE, automakers team up to share data on traffic conditions\" (0)\n"
          ],
          "name": "stdout"
        }
      ]
    },
    {
      "cell_type": "code",
      "metadata": {
        "id": "zSC5PYzr_sSw",
        "colab_type": "code",
        "colab": {}
      },
      "source": [
        ""
      ],
      "execution_count": 0,
      "outputs": []
    }
  ]
}