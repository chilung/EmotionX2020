{
 "cells": [
  {
   "cell_type": "code",
   "execution_count": 2,
   "metadata": {},
   "outputs": [
    {
     "name": "stderr",
     "output_type": "stream",
     "text": [
      "DEBUG:root:Hello Debug\n",
      "INFO:root:Hello Info\n",
      "WARNING:root:Hello Warning\n",
      "ERROR:root:Hello Error\n",
      "CRITICAL:root:Hello Critical\n"
     ]
    }
   ],
   "source": [
    "import logging\n",
    "\n",
    "logging.basicConfig(level=logging.DEBUG)\n",
    "logging.debug('Hello Debug')\n",
    "logging.info('Hello Info')\n",
    "logging.warning('Hello Warning')\n",
    "logging.error('Hello Error')\n",
    "logging.critical('Hello Critical')"
   ]
  },
  {
   "cell_type": "code",
   "execution_count": 4,
   "metadata": {},
   "outputs": [
    {
     "name": "stderr",
     "output_type": "stream",
     "text": [
      "DEBUG:root:['textFile\\\\test.txt']\n",
      "DEBUG:root:all letter abcdefghijklmnopqrstuvwxyzABCDEFGHIJKLMNOPQRSTUVWXYZ .,;'\n",
      "DEBUG:root:len letters 57\n",
      "DEBUG:root:Slusarski\n",
      "DEBUG:root:all category []\n",
      "DEBUG:root:len category 0\n"
     ]
    }
   ],
   "source": [
    "from io import open\n",
    "import glob\n",
    "import os\n",
    "import numpy as np\n",
    "\n",
    "def findFiles(path): return glob.glob(path)\n",
    "\n",
    "logging.debug(findFiles('textFile/*.txt'))\n",
    "\n",
    "import unicodedata\n",
    "import string\n",
    "\n",
    "punctuation_letter = \",./;'[]<>?:\\\"\\{\\}!@#$%^&*()_+-=~`\"\n",
    "\n",
    "all_letters = string.ascii_letters + \" .,;'\"\n",
    "n_letters = len(all_letters)\n",
    "logging.debug(\"all letter {}\".format(all_letters))\n",
    "logging.debug(\"len letters {}\".format(n_letters))\n",
    "\n",
    "# Turn a Unicode string to plain ASCII, thanks to https://stackoverflow.com/a/518232/2809427\n",
    "def unicodeToAscii(s):\n",
    "    return ''.join(\n",
    "        c for c in unicodedata.normalize('NFD', s)\n",
    "        if unicodedata.category(c) != 'Mn'\n",
    "        and c in all_letters\n",
    "    )\n",
    "\n",
    "# Build the category_lines dictionary, a list of names per language\n",
    "category_lines = {}\n",
    "all_categories = []\n",
    "\n",
    "# Read a file and split into lines\n",
    "def readLines(filename):\n",
    "    lines = open(filename, encoding='utf-8').read().strip().split('\\n')\n",
    "    # logging.debug(\"====================\")\n",
    "    # logging.debug(lines)\n",
    "    return [unicodeToAscii(line) for line in lines]\n",
    "\n",
    "for filename in findFiles('data/names/*.txt'):\n",
    "    category = os.path.splitext(os.path.basename(filename))[0]\n",
    "    # logging.debug(\"category {}\".format(category))\n",
    "    all_categories.append(category)\n",
    "    lines = readLines(filename)\n",
    "    category_lines[category] = lines\n",
    "\n",
    "n_categories = len(all_categories)\n",
    "logging.debug(\"all category {}\".format(all_categories))\n",
    "logging.debug(\"len category {}\".format(n_categories))"
   ]
  },
  {
   "cell_type": "code",
   "execution_count": 13,
   "metadata": {},
   "outputs": [
    {
     "name": "stdout",
     "output_type": "stream",
     "text": [
      "MnMon\n",
      "mnmon\n"
     ]
    }
   ],
   "source": [
    "oldstr = \"Men Mon\"\n",
    "for i in \"e \":\n",
    "    oldstr = oldstr.replace(i, \"\")\n",
    "print(oldstr)\n",
    "print(oldstr.lower())"
   ]
  },
  {
   "cell_type": "code",
   "execution_count": 16,
   "metadata": {},
   "outputs": [
    {
     "name": "stdout",
     "output_type": "stream",
     "text": [
      "Men Mon\n",
      "MnMon\n"
     ]
    }
   ],
   "source": [
    "def removeLetter(inputStr, removeLetter):\n",
    "    for i in removeLetter:\n",
    "        inputStr = inputStr.replace(i, \"\")\n",
    "    \n",
    "    return inputStr\n",
    "oldstr = \"Men Mon\"\n",
    "print(oldstr)\n",
    "print(removeLetter(oldstr, \"e \"))"
   ]
  },
  {
   "cell_type": "code",
   "execution_count": 17,
   "metadata": {},
   "outputs": [
    {
     "name": "stdout",
     "output_type": "stream",
     "text": [
      "men mon\n"
     ]
    }
   ],
   "source": [
    "def lowerCase(inputStr):\n",
    "    return inputStr.lower()\n",
    "print(lowerCase(oldstr))"
   ]
  },
  {
   "cell_type": "code",
   "execution_count": null,
   "metadata": {},
   "outputs": [],
   "source": []
  }
 ],
 "metadata": {
  "kernelspec": {
   "display_name": "Python 3",
   "language": "python",
   "name": "python3"
  },
  "language_info": {
   "codemirror_mode": {
    "name": "ipython",
    "version": 3
   },
   "file_extension": ".py",
   "mimetype": "text/x-python",
   "name": "python",
   "nbconvert_exporter": "python",
   "pygments_lexer": "ipython3",
   "version": "3.7.6"
  }
 },
 "nbformat": 4,
 "nbformat_minor": 4
}
