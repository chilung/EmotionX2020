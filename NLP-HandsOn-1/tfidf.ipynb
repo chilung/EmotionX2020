{
 "cells": [
  {
   "cell_type": "code",
   "execution_count": 1,
   "metadata": {},
   "outputs": [
    {
     "name": "stderr",
     "output_type": "stream",
     "text": [
      "DEBUG:root:Hello Debug\n",
      "INFO:root:Hello Info\n",
      "WARNING:root:Hello Warning\n",
      "ERROR:root:Hello Error\n",
      "CRITICAL:root:Hello Critical\n"
     ]
    }
   ],
   "source": [
    "import logging\n",
    "\n",
    "logging.basicConfig(level=logging.DEBUG)\n",
    "\n",
    "logging.debug('Hello Debug')\n",
    "logging.info('Hello Info')\n",
    "logging.warning('Hello Warning')\n",
    "logging.error('Hello Error')\n",
    "logging.critical('Hello Critical')"
   ]
  },
  {
   "cell_type": "code",
   "execution_count": 2,
   "metadata": {},
   "outputs": [],
   "source": [
    "from io import open\n",
    "import glob\n",
    "import os\n",
    "import numpy as np"
   ]
  },
  {
   "cell_type": "code",
   "execution_count": 3,
   "metadata": {},
   "outputs": [],
   "source": [
    "punctuation_letter = \",./;'[]<>?:\\\"\\{\\}!@#$%^&*()_+-=~`\""
   ]
  },
  {
   "cell_type": "code",
   "execution_count": 4,
   "metadata": {},
   "outputs": [],
   "source": [
    "def findFiles(path):\n",
    "    return glob.glob(path)"
   ]
  },
  {
   "cell_type": "code",
   "execution_count": 5,
   "metadata": {},
   "outputs": [
    {
     "name": "stderr",
     "output_type": "stream",
     "text": [
      "DEBUG:root:Men Mon\n",
      "DEBUG:root:MnMon\n"
     ]
    }
   ],
   "source": [
    "def removeLetter(inputStr, removeLetter):\n",
    "    for i in removeLetter:\n",
    "        inputStr = inputStr.replace(i, \"\")\n",
    "    \n",
    "    return inputStr\n",
    "\n",
    "# unit test of removeLetter\n",
    "if __debug__:\n",
    "    oldstr = \"Men Mon\"\n",
    "    logging.debug(oldstr)\n",
    "    logging.debug(removeLetter(oldstr, \"e \"))"
   ]
  },
  {
   "cell_type": "code",
   "execution_count": 6,
   "metadata": {},
   "outputs": [
    {
     "name": "stderr",
     "output_type": "stream",
     "text": [
      "DEBUG:root:Men Mon\n",
      "DEBUG:root:men mon\n"
     ]
    }
   ],
   "source": [
    "def lowerCase(inputStr):\n",
    "    return inputStr.lower()\n",
    "\n",
    "# unit test of lowerCase\n",
    "if __debug__:\n",
    "    oldstr = \"Men Mon\"\n",
    "    logging.debug(oldstr)\n",
    "    logging.debug(lowerCase(oldstr))"
   ]
  },
  {
   "cell_type": "code",
   "execution_count": 7,
   "metadata": {},
   "outputs": [],
   "source": [
    "def unicodeToAscii(inputStr):\n",
    "    return ''.join(\n",
    "        c for c in unicodedata.normalize('NFD', inputStr)\n",
    "        if unicodedata.category(c) != 'Mn'\n",
    "        and c in all_letters\n",
    "    )"
   ]
  },
  {
   "cell_type": "code",
   "execution_count": 8,
   "metadata": {},
   "outputs": [
    {
     "name": "stderr",
     "output_type": "stream",
     "text": [
      "DEBUG:root:lines: ['his is a test.', 'Test .', 'Test ?', 'Test /', 'Test \"', 'Test :']\n",
      "DEBUG:root:lines: ['I am here.', 'I am not there.', 'WHere are you?', 'Where is she?']\n",
      "DEBUG:root:lines: ['This is a dog.', 'This is a cat.', 'Dog is not a cat.']\n",
      "DEBUG:root:all_lines: ['his is a test.', 'Test .', 'Test ?', 'Test /', 'Test \"', 'Test :', 'I am here.', 'I am not there.', 'WHere are you?', 'Where is she?', 'This is a dog.', 'This is a cat.', 'Dog is not a cat.']\n"
     ]
    }
   ],
   "source": [
    "def readLines(filename):\n",
    "    lines = open(filename, encoding='utf-8').read().strip().split('\\n')\n",
    "    return [line for line in lines if line != '']\n",
    "    # return lines\n",
    "\n",
    "if __debug__:\n",
    "    all_lines = []\n",
    "    \n",
    "    for filename in findFiles('textFile/*.txt'):\n",
    "        lines = readLines(filename)\n",
    "        logging.debug('lines: {}'.format(lines))\n",
    "        all_lines = all_lines + lines\n",
    "    \n",
    "    logging.debug('all_lines: {}'.format(all_lines))"
   ]
  },
  {
   "cell_type": "code",
   "execution_count": 9,
   "metadata": {},
   "outputs": [
    {
     "name": "stderr",
     "output_type": "stream",
     "text": [
      "DEBUG:root:words: ['his', 'is', 'a', 'test', 'test', 'test', 'test', 'test', 'test']\n",
      "DEBUG:root:words: ['i', 'am', 'here', 'i', 'am', 'not', 'there', 'where', 'are', 'you', 'where', 'is', 'she']\n",
      "DEBUG:root:words: ['this', 'is', 'a', 'dog', 'this', 'is', 'a', 'cat', 'dog', 'is', 'not', 'a', 'cat']\n",
      "DEBUG:root:all_words: ['his', 'is', 'a', 'test', 'test', 'test', 'test', 'test', 'test', 'i', 'am', 'here', 'i', 'am', 'not', 'there', 'where', 'are', 'you', 'where', 'is', 'she', 'this', 'is', 'a', 'dog', 'this', 'is', 'a', 'cat', 'dog', 'is', 'not', 'a', 'cat']\n"
     ]
    }
   ],
   "source": [
    "def readWords(filename):\n",
    "    lines = open(filename, encoding='utf-8').read().strip().split('\\n')\n",
    "    words = []\n",
    "    for line in lines:\n",
    "        line = removeLetter(line, punctuation_letter)\n",
    "        if line != '':\n",
    "            words = words + lowerCase(line).strip().split(' ')\n",
    "    return words\n",
    "\n",
    "if __debug__:\n",
    "    all_words = []\n",
    "    \n",
    "    for filename in findFiles('textFile/*.txt'):\n",
    "        words = readWords(filename)\n",
    "        logging.debug('words: {}'.format(words))\n",
    "        all_words = all_words + words\n",
    "    \n",
    "    logging.debug('all_words: {}'.format(all_words))"
   ]
  },
  {
   "cell_type": "code",
   "execution_count": 10,
   "metadata": {},
   "outputs": [
    {
     "name": "stderr",
     "output_type": "stream",
     "text": [
      "DEBUG:root:words: ['his', 'is', 'a', 'test', 'test', 'test', 'test', 'test', 'test']\n",
      "DEBUG:root:words: ['i', 'am', 'here', 'i', 'am', 'not', 'there', 'where', 'are', 'you', 'where', 'is', 'she']\n",
      "DEBUG:root:words: ['this', 'is', 'a', 'dog', 'this', 'is', 'a', 'cat', 'dog', 'is', 'not', 'a', 'cat']\n",
      "DEBUG:root:all_words: ['his', 'is', 'a', 'test', 'test', 'test', 'test', 'test', 'test', 'i', 'am', 'here', 'i', 'am', 'not', 'there', 'where', 'are', 'you', 'where', 'is', 'she', 'this', 'is', 'a', 'dog', 'this', 'is', 'a', 'cat', 'dog', 'is', 'not', 'a', 'cat']\n",
      "DEBUG:root:unique_sorted_all_words: ['a' 'am' 'are' 'cat' 'dog' 'here' 'his' 'i' 'is' 'not' 'she' 'test'\n",
      " 'there' 'this' 'where' 'you']\n"
     ]
    }
   ],
   "source": [
    "def sortedUniqueWords(wordList):\n",
    "    return(np.unique(sorted(wordList)))\n",
    "    \n",
    "if __debug__:\n",
    "    all_words = []\n",
    "    \n",
    "    for filename in findFiles('textFile/*.txt'):\n",
    "        words = readWords(filename)\n",
    "        logging.debug('words: {}'.format(words))\n",
    "        all_words = all_words + words\n",
    "    \n",
    "    logging.debug('all_words: {}'.format((all_words)))\n",
    "    \n",
    "    unique_sorted_all_words = sortedUniqueWords(all_words)\n",
    "    logging.debug('unique_sorted_all_words: {}'.format(unique_sorted_all_words))"
   ]
  },
  {
   "cell_type": "code",
   "execution_count": 11,
   "metadata": {},
   "outputs": [
    {
     "name": "stdout",
     "output_type": "stream",
     "text": [
      "OrderedDict([('test1', [('am', 1), ('is', 2)]), ('test2', [('am', 3), ('is', 4)])])\n"
     ]
    }
   ],
   "source": [
    "from collections import OrderedDict\n",
    "\n",
    "tfIDF = OrderedDict()\n",
    "tfIDF['test1'] = [('am', 1), ('is', 2)]\n",
    "tfIDF['test2'] = [('am', 3), ('is', 4)]\n",
    "#tfIDF['test1']['am'] = 1\n",
    "#tfIDF['test1']['is'] = 2\n",
    "#tfIDF['test2']['am'] = 3\n",
    "#tfIDF['test2']['is'] = 4\n",
    "\n",
    "print(tfIDF)\n"
   ]
  },
  {
   "cell_type": "code",
   "execution_count": 24,
   "metadata": {},
   "outputs": [
    {
     "name": "stderr",
     "output_type": "stream",
     "text": [
      "DEBUG:root:words: ['his', 'is', 'a', 'test', 'test', 'test', 'test', 'test', 'test']\n",
      "DEBUG:root:words: ['i', 'am', 'here', 'i', 'am', 'not', 'there', 'where', 'are', 'you', 'where', 'is', 'she']\n",
      "DEBUG:root:words: ['this', 'is', 'a', 'dog', 'this', 'is', 'a', 'cat', 'dog', 'is', 'not', 'a', 'cat']\n",
      "DEBUG:root:file_words: {'textFile\\\\test 1.txt': ['his', 'is', 'a', 'test', 'test', 'test', 'test', 'test', 'test'], 'textFile\\\\test 2.txt': ['i', 'am', 'here', 'i', 'am', 'not', 'there', 'where', 'are', 'you', 'where', 'is', 'she'], 'textFile\\\\test 3.txt': ['this', 'is', 'a', 'dog', 'this', 'is', 'a', 'cat', 'dog', 'is', 'not', 'a', 'cat']}\n",
      "DEBUG:root:all_words: ['his', 'is', 'a', 'test', 'test', 'test', 'test', 'test', 'test', 'i', 'am', 'here', 'i', 'am', 'not', 'there', 'where', 'are', 'you', 'where', 'is', 'she', 'this', 'is', 'a', 'dog', 'this', 'is', 'a', 'cat', 'dog', 'is', 'not', 'a', 'cat']\n",
      "DEBUG:root:unique_sorted_all_words: ['a' 'am' 'are' 'cat' 'dog' 'here' 'his' 'i' 'is' 'not' 'she' 'test'\n",
      " 'there' 'this' 'where' 'you']\n",
      "DEBUG:root:a: 1 times\n",
      "DEBUG:root:am: 0 times\n",
      "DEBUG:root:are: 0 times\n",
      "DEBUG:root:cat: 0 times\n",
      "DEBUG:root:dog: 0 times\n",
      "DEBUG:root:here: 0 times\n",
      "DEBUG:root:his: 1 times\n",
      "DEBUG:root:i: 0 times\n",
      "DEBUG:root:is: 1 times\n",
      "DEBUG:root:not: 0 times\n",
      "DEBUG:root:she: 0 times\n",
      "DEBUG:root:test: 6 times\n",
      "DEBUG:root:there: 0 times\n",
      "DEBUG:root:this: 0 times\n",
      "DEBUG:root:where: 0 times\n",
      "DEBUG:root:you: 0 times\n",
      "DEBUG:root:a: 0 times\n",
      "DEBUG:root:am: 2 times\n",
      "DEBUG:root:are: 1 times\n",
      "DEBUG:root:cat: 0 times\n",
      "DEBUG:root:dog: 0 times\n",
      "DEBUG:root:here: 1 times\n",
      "DEBUG:root:his: 0 times\n",
      "DEBUG:root:i: 2 times\n",
      "DEBUG:root:is: 1 times\n",
      "DEBUG:root:not: 1 times\n",
      "DEBUG:root:she: 1 times\n",
      "DEBUG:root:test: 0 times\n",
      "DEBUG:root:there: 1 times\n",
      "DEBUG:root:this: 0 times\n",
      "DEBUG:root:where: 2 times\n",
      "DEBUG:root:you: 1 times\n",
      "DEBUG:root:a: 3 times\n",
      "DEBUG:root:am: 0 times\n",
      "DEBUG:root:are: 0 times\n",
      "DEBUG:root:cat: 2 times\n",
      "DEBUG:root:dog: 2 times\n",
      "DEBUG:root:here: 0 times\n",
      "DEBUG:root:his: 0 times\n",
      "DEBUG:root:i: 0 times\n",
      "DEBUG:root:is: 3 times\n",
      "DEBUG:root:not: 1 times\n",
      "DEBUG:root:she: 0 times\n",
      "DEBUG:root:test: 0 times\n",
      "DEBUG:root:there: 0 times\n",
      "DEBUG:root:this: 2 times\n",
      "DEBUG:root:where: 0 times\n",
      "DEBUG:root:you: 0 times\n",
      "DEBUG:root:OrderedDict([('textFile\\\\test 1.txt', OrderedDict([('LENGTH', 9), ('a', 1), ('am', 0), ('are', 0), ('cat', 0), ('dog', 0), ('here', 0), ('his', 1), ('i', 0), ('is', 1), ('not', 0), ('she', 0), ('test', 6), ('there', 0), ('this', 0), ('where', 0), ('you', 0)])), ('textFile\\\\test 2.txt', OrderedDict([('LENGTH', 13), ('a', 0), ('am', 2), ('are', 1), ('cat', 0), ('dog', 0), ('here', 1), ('his', 0), ('i', 2), ('is', 1), ('not', 1), ('she', 1), ('test', 0), ('there', 1), ('this', 0), ('where', 2), ('you', 1)])), ('textFile\\\\test 3.txt', OrderedDict([('LENGTH', 13), ('a', 3), ('am', 0), ('are', 0), ('cat', 2), ('dog', 2), ('here', 0), ('his', 0), ('i', 0), ('is', 3), ('not', 1), ('she', 0), ('test', 0), ('there', 0), ('this', 2), ('where', 0), ('you', 0)]))])\n"
     ]
    }
   ],
   "source": [
    "if __debug__:\n",
    "    all_words = []\n",
    "    file_words = {}\n",
    "    \n",
    "    for filename in findFiles('textFile/*.txt'):\n",
    "        words = readWords(filename)\n",
    "        logging.debug('words: {}'.format(words))\n",
    "        file_words[filename] = words\n",
    "        all_words = all_words + words\n",
    "    \n",
    "    logging.debug('file_words: {}'.format((file_words)))\n",
    "    logging.debug('all_words: {}'.format((all_words)))\n",
    "    \n",
    "    unique_sorted_all_words = sortedUniqueWords(all_words)\n",
    "    logging.debug('unique_sorted_all_words: {}'.format(unique_sorted_all_words))\n",
    "    \n",
    "    allWordCount = OrderedDict()\n",
    "    \n",
    "    for fileComponent in file_words:\n",
    "        words = file_words[fileComponent]\n",
    "        wordCount = OrderedDict()\n",
    "        wordCount['LENGTH'] = len(words)\n",
    "        for w in unique_sorted_all_words:\n",
    "            logging.debug(\"{}: {} times\".format(w, words.count(w)))\n",
    "            wordCount[w] = words.count(w)\n",
    "        allWordCount[fileComponent] = wordCount\n",
    "    logging.debug(allWordCount)        "
   ]
  },
  {
   "cell_type": "code",
   "execution_count": 25,
   "metadata": {},
   "outputs": [
    {
     "name": "stdout",
     "output_type": "stream",
     "text": [
      "a: 1 times\n",
      "am: 0 times\n",
      "are: 0 times\n",
      "cat: 0 times\n",
      "dog: 0 times\n",
      "here: 0 times\n",
      "his: 1 times\n",
      "i: 0 times\n",
      "is: 1 times\n",
      "not: 0 times\n",
      "she: 0 times\n",
      "test: 6 times\n",
      "there: 0 times\n",
      "this: 0 times\n",
      "where: 0 times\n",
      "you: 0 times\n",
      "a: 0 times\n",
      "am: 2 times\n",
      "are: 1 times\n",
      "cat: 0 times\n",
      "dog: 0 times\n",
      "here: 1 times\n",
      "his: 0 times\n",
      "i: 2 times\n",
      "is: 1 times\n",
      "not: 1 times\n",
      "she: 1 times\n",
      "test: 0 times\n",
      "there: 1 times\n",
      "this: 0 times\n",
      "where: 2 times\n",
      "you: 1 times\n",
      "a: 3 times\n",
      "am: 0 times\n",
      "are: 0 times\n",
      "cat: 2 times\n",
      "dog: 2 times\n",
      "here: 0 times\n",
      "his: 0 times\n",
      "i: 0 times\n",
      "is: 3 times\n",
      "not: 1 times\n",
      "she: 0 times\n",
      "test: 0 times\n",
      "there: 0 times\n",
      "this: 2 times\n",
      "where: 0 times\n",
      "you: 0 times\n",
      "OrderedDict([('textFile\\\\test 1.txt', OrderedDict([('LENGTH', 9), ('a', 1), ('am', 0), ('are', 0), ('cat', 0), ('dog', 0), ('here', 0), ('his', 1), ('i', 0), ('is', 1), ('not', 0), ('she', 0), ('test', 6), ('there', 0), ('this', 0), ('where', 0), ('you', 0)])), ('textFile\\\\test 2.txt', OrderedDict([('LENGTH', 13), ('a', 0), ('am', 2), ('are', 1), ('cat', 0), ('dog', 0), ('here', 1), ('his', 0), ('i', 2), ('is', 1), ('not', 1), ('she', 1), ('test', 0), ('there', 1), ('this', 0), ('where', 2), ('you', 1)])), ('textFile\\\\test 3.txt', OrderedDict([('LENGTH', 13), ('a', 3), ('am', 0), ('are', 0), ('cat', 2), ('dog', 2), ('here', 0), ('his', 0), ('i', 0), ('is', 3), ('not', 1), ('she', 0), ('test', 0), ('there', 0), ('this', 2), ('where', 0), ('you', 0)]))])\n"
     ]
    }
   ],
   "source": [
    "    for filename in findFiles('textFile/*.txt'):\n",
    "        words = readWords(filename)\n",
    "        wordCount = OrderedDict()\n",
    "        wordCount['LENGTH'] = len(words)\n",
    "        for w in unique_sorted_all_words:\n",
    "            print(\"{}: {} times\".format(w, words.count(w)))\n",
    "            wordCount[w] = words.count(w)\n",
    "        allWordCount[filename] = wordCount\n",
    "    \n",
    "    print(allWordCount)"
   ]
  },
  {
   "cell_type": "code",
   "execution_count": 28,
   "metadata": {},
   "outputs": [],
   "source": [
    "\n",
    "from collections import OrderedDict\n",
    "\n",
    "def test_ws_result(fname):\n",
    "\n",
    "    dictionary_acc = OrderedDict()\n",
    "    dictionary_time = OrderedDict()\n",
    "    \n",
    "    with open(fname) as fp:  \n",
    "        for cnt, line in enumerate(fp):\n",
    "            print(\"Line {}: {}\".format(cnt, line))\n",
    "            # work space: 2^30\n",
    "            pattern = re.compile(r\"work space: 2\\^(\\d+)\")\n",
    "            match = pattern.match(line)\n",
    "            if match:\n",
    "                work_space_str, = match.groups()\n",
    "                work_space_str = '2^{}'.format(work_space_str)\n",
    "                print(work_space_str)\n",
    "                      \n",
    "            # Accuracy of the network on the 3347 test images: 92.41%, and loss is: 0.004\n",
    "            pattern = re.compile(r\"Accuracy of the network on the (\\d+) test images: (\\d+.\\d+)%, and loss is: (\\d+.\\d+)\")\n",
    "            match = pattern.match(line)\n",
    "            if match:\n",
    "                test_size_str, acc_str, loss_str = match.groups()\n",
    "                print(test_size_str, acc_str, loss_str)\n",
    "\n",
    "            # 76.6552894115448 seconds\n",
    "            pattern = re.compile(r\"(\\d+.\\d+) seconds\")\n",
    "            match = pattern.match(line)\n",
    "            if match:\n",
    "                time_str, = match.groups()\n",
    "                print(time_str)\n",
    "                print('work space: {:s}, acc: {:s}, time: {:s}'.\n",
    "                      format(work_space_str, acc_str, time_str))\n",
    "\n",
    "                acc = float(\"{:.2f}\".format(float(acc_str)))\n",
    "                time = float(\"{:.2f}\".format(float(time_str)))\n",
    "                \n",
    "                dictionary_acc[work_space_str] = acc\n",
    "                dictionary_time[work_space_str] = time"
   ]
  },
  {
   "cell_type": "code",
   "execution_count": 29,
   "metadata": {},
   "outputs": [
    {
     "name": "stderr",
     "output_type": "stream",
     "text": [
      "DEBUG:root:['textFile\\\\test 1.txt', 'textFile\\\\test 2.txt', 'textFile\\\\test 3.txt']\n",
      "DEBUG:root:all letter abcdefghijklmnopqrstuvwxyzABCDEFGHIJKLMNOPQRSTUVWXYZ .,;'\n",
      "DEBUG:root:len letters 57\n",
      "DEBUG:root:all category ['test 1', 'test 2', 'test 3']\n",
      "DEBUG:root:len category 3\n"
     ]
    }
   ],
   "source": [
    "logging.debug(findFiles('textFile/*.txt'))\n",
    "\n",
    "import unicodedata\n",
    "import string\n",
    "\n",
    "punctuation_letter = \",./;'[]<>?:\\\"\\{\\}!@#$%^&*()_+-=~`\"\n",
    "\n",
    "all_letters = string.ascii_letters + \" .,;'\"\n",
    "n_letters = len(all_letters)\n",
    "logging.debug(\"all letter {}\".format(all_letters))\n",
    "logging.debug(\"len letters {}\".format(n_letters))\n",
    "\n",
    "# Turn a Unicode string to plain ASCII, thanks to https://stackoverflow.com/a/518232/2809427\n",
    "def unicodeToAscii(s):\n",
    "    return ''.join(\n",
    "        c for c in unicodedata.normalize('NFD', s)\n",
    "        if unicodedata.category(c) != 'Mn'\n",
    "        and c in all_letters\n",
    "    )\n",
    "\n",
    "# Build the category_lines dictionary, a list of names per language\n",
    "category_lines = {}\n",
    "all_categories = []\n",
    "\n",
    "# Read a file and split into lines\n",
    "def readLines(filename):\n",
    "    lines = open(filename, encoding='utf-8').read().strip().split('\\n')\n",
    "    # logging.debug(\"====================\")\n",
    "    # logging.debug(lines)\n",
    "    return [unicodeToAscii(line) for line in lines]\n",
    "\n",
    "for filename in findFiles('textFile/*.txt'):\n",
    "    category = os.path.splitext(os.path.basename(filename))[0]\n",
    "    # logging.debug(\"category {}\".format(category))\n",
    "    all_categories.append(category)\n",
    "    lines = readLines(filename)\n",
    "    category_lines[category] = lines\n",
    "\n",
    "n_categories = len(all_categories)\n",
    "logging.debug(\"all category {}\".format(all_categories))\n",
    "logging.debug(\"len category {}\".format(n_categories))"
   ]
  },
  {
   "cell_type": "code",
   "execution_count": null,
   "metadata": {},
   "outputs": [],
   "source": []
  }
 ],
 "metadata": {
  "kernelspec": {
   "display_name": "Python 3",
   "language": "python",
   "name": "python3"
  },
  "language_info": {
   "codemirror_mode": {
    "name": "ipython",
    "version": 3
   },
   "file_extension": ".py",
   "mimetype": "text/x-python",
   "name": "python",
   "nbconvert_exporter": "python",
   "pygments_lexer": "ipython3",
   "version": "3.7.6"
  }
 },
 "nbformat": 4,
 "nbformat_minor": 4
}
